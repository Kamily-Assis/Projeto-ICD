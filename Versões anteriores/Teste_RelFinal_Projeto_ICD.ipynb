{
  "cells": [
    {
      "cell_type": "markdown",
      "source": [
        "#Projeto: Análise Exploratória de Dados de Câncer"
      ],
      "metadata": {
        "id": "0J1gGtcnx2K1"
      }
    },
    {
      "cell_type": "markdown",
      "source": [
        "Grupo:\n",
        "\n",
        "Adriel Ferreira Trajano\n",
        "\n",
        "Jéssica Chaves Nagahama\n",
        "\n",
        "Kamily Assis de Oliveira"
      ],
      "metadata": {
        "id": "pwpoycpRx-Ns"
      }
    },
    {
      "cell_type": "markdown",
      "source": [
        "#Introdução"
      ],
      "metadata": {
        "id": "b7M0qwiVyBos"
      }
    },
    {
      "cell_type": "markdown",
      "source": [
        "###**Motivação e Objetivos**\n",
        "\n",
        " Nosso projeto foi iniciado a fim de observar a variância dos dados sobre mortes causadas por Neoplasia (câncer) ao redor do mundo, nos 5 países mais afetados pela enfermidade entre diferentes faixas etárias, e a relação direta dos casos com o investimento público em saúde.\n",
        "\n",
        "\n",
        "  Temos como principal motivação, a partir da manipulação de dados para visualização facilitada, torná-los mais acessíveis ao público. Possibilitando, assim, que cada vez mais pessoas se tornem socialmente conscientes sobre a importância das políticas públicas no tratamento do Crescimento Desordenado de Células (Neoplasia).\n",
        "\n",
        "\n",
        "###**A fim de satisfazer tais objetivos, elaborou-se as seguintes questões:**\n",
        "\n",
        "\n",
        "Qual é a faixa etária que mais morre nesses países?\n",
        "\n",
        "Qual é o país mais constante? \n",
        "\n",
        "Qual é o país com maior queda de casos nos últimos 5 anos?\n",
        "\n",
        "Qual é o país com o maior investimento público em saúde? \n",
        "\n",
        "Em qual ano mais países tiveram altas em suas taxas?\n",
        "\n",
        "E qual o país com o menor investimento?  \n"
      ],
      "metadata": {
        "id": "5JQgv8zpyFWT"
      }
    },
    {
      "cell_type": "markdown",
      "source": [
        "# Dataset 1"
      ],
      "metadata": {
        "id": "SGQ94UB23LBL"
      }
    },
    {
      "cell_type": "markdown",
      "metadata": {
        "id": "iLeZJzltk6eN"
      },
      "source": [
        "##Exploração Inicial"
      ]
    },
    {
      "cell_type": "markdown",
      "metadata": {
        "id": "bGGZ5ELjP4ku"
      },
      "source": [
        "### 1. Importando Bibliotecas"
      ]
    },
    {
      "cell_type": "code",
      "execution_count": null,
      "metadata": {
        "id": "jjW6Re1CPh4v"
      },
      "outputs": [],
      "source": [
        "import pandas as pd\n",
        "import numpy as np\n",
        "import seaborn as sns\n",
        "import matplotlib.pyplot as plt\n",
        "import sklearn as sk"
      ]
    },
    {
      "cell_type": "markdown",
      "metadata": {
        "id": "uG2xfiIaQqM4"
      },
      "source": [
        "### 2. Leitura e Pré-processamento de Dados"
      ]
    },
    {
      "cell_type": "markdown",
      "metadata": {
        "id": "bgK4WnTKjqNv"
      },
      "source": [
        "#### 2.1 Dataframe recebe CSV"
      ]
    },
    {
      "cell_type": "markdown",
      "source": [
        "Dataset 1: Taxas de mortalidade Por Idade"
      ],
      "metadata": {
        "id": "X8LIySH4zGaK"
      }
    },
    {
      "cell_type": "code",
      "execution_count": null,
      "metadata": {
        "id": "Gip3CXGYQEus"
      },
      "outputs": [],
      "source": [
        "df = pd.read_csv(\"cancer-death-rates-by-age.csv\")"
      ]
    },
    {
      "cell_type": "code",
      "execution_count": null,
      "metadata": {
        "id": "4uTiht4jQjFF",
        "scrolled": true,
        "outputId": "ecc59af7-862d-425e-a7f8-a8e811477b0d",
        "colab": {
          "base_uri": "https://localhost:8080/",
          "height": 502
        }
      },
      "outputs": [
        {
          "output_type": "execute_result",
          "data": {
            "text/plain": [
              "           Entity Code  Year  \\\n",
              "0     Afghanistan  AFG  1990   \n",
              "1     Afghanistan  AFG  1991   \n",
              "2     Afghanistan  AFG  1992   \n",
              "3     Afghanistan  AFG  1993   \n",
              "4     Afghanistan  AFG  1994   \n",
              "...           ...  ...   ...   \n",
              "6835     Zimbabwe  ZWE  2015   \n",
              "6836     Zimbabwe  ZWE  2016   \n",
              "6837     Zimbabwe  ZWE  2017   \n",
              "6838     Zimbabwe  ZWE  2018   \n",
              "6839     Zimbabwe  ZWE  2019   \n",
              "\n",
              "      Deaths - Neoplasms - Sex: Both - Age: Under 5 (Rate)  \\\n",
              "0                                             21.333432      \n",
              "1                                             18.701225      \n",
              "2                                             16.801217      \n",
              "3                                             16.527773      \n",
              "4                                             16.527686      \n",
              "...                                                 ...      \n",
              "6835                                           2.642187      \n",
              "6836                                           2.753739      \n",
              "6837                                           2.752663      \n",
              "6838                                           2.718565      \n",
              "6839                                           2.711397      \n",
              "\n",
              "      Deaths - Neoplasms - Sex: Both - Age: Age-standardized (Rate)  \\\n",
              "0                                            159.964864               \n",
              "1                                            158.455892               \n",
              "2                                            157.390960               \n",
              "3                                            157.574448               \n",
              "4                                            158.031726               \n",
              "...                                                 ...               \n",
              "6835                                         182.596478               \n",
              "6836                                         182.424420               \n",
              "6837                                         181.835774               \n",
              "6838                                         181.356873               \n",
              "6839                                         180.933963               \n",
              "\n",
              "      Deaths - Neoplasms - Sex: Both - Age: All Ages (Rate)  \\\n",
              "0                                            101.409895       \n",
              "1                                             93.714269       \n",
              "2                                             84.011048       \n",
              "3                                             79.038807       \n",
              "4                                             77.173172       \n",
              "...                                                 ...       \n",
              "6835                                          79.281072       \n",
              "6836                                          80.128518       \n",
              "6837                                          80.769870       \n",
              "6838                                          81.484036       \n",
              "6839                                          82.291345       \n",
              "\n",
              "      Deaths - Neoplasms - Sex: Both - Age: 70+ years (Rate)  \\\n",
              "0                                           1021.494249        \n",
              "1                                           1013.760277        \n",
              "2                                           1007.834265        \n",
              "3                                           1006.565188        \n",
              "4                                           1006.363704        \n",
              "...                                                 ...        \n",
              "6835                                        1340.306429        \n",
              "6836                                        1336.598159        \n",
              "6837                                        1333.762807        \n",
              "6838                                        1330.364400        \n",
              "6839                                        1327.744695        \n",
              "\n",
              "      Deaths - Neoplasms - Sex: Both - Age: 5-14 years (Rate)  \\\n",
              "0                                              9.372839         \n",
              "1                                              9.456989         \n",
              "2                                              9.737245         \n",
              "3                                              9.832934         \n",
              "4                                              9.564733         \n",
              "...                                                 ...         \n",
              "6835                                           2.495452         \n",
              "6836                                           2.683036         \n",
              "6837                                           2.768516         \n",
              "6838                                           2.797381         \n",
              "6839                                           2.749125         \n",
              "\n",
              "      Deaths - Neoplasms - Sex: Both - Age: 50-69 years (Rate)  \\\n",
              "0                                            407.233106          \n",
              "1                                            404.506587          \n",
              "2                                            402.687908          \n",
              "3                                            404.419442          \n",
              "4                                            407.332265          \n",
              "...                                                 ...          \n",
              "6835                                         465.147739          \n",
              "6836                                         464.267622          \n",
              "6837                                         461.892531          \n",
              "6838                                         458.788271          \n",
              "6839                                         455.847569          \n",
              "\n",
              "      Deaths - Neoplasms - Sex: Both - Age: 15-49 years (Rate)  \n",
              "0                                             43.620659         \n",
              "1                                             40.530804         \n",
              "2                                             37.166581         \n",
              "3                                             35.723897         \n",
              "4                                             35.458716         \n",
              "...                                                 ...         \n",
              "6835                                          34.026731         \n",
              "6836                                          34.769286         \n",
              "6837                                          35.273065         \n",
              "6838                                          35.747494         \n",
              "6839                                          36.221210         \n",
              "\n",
              "[6840 rows x 10 columns]"
            ],
            "text/html": [
              "\n",
              "  <div id=\"df-d324766a-4cd3-4ee2-9a13-a34528f21b33\">\n",
              "    <div class=\"colab-df-container\">\n",
              "      <div>\n",
              "<style scoped>\n",
              "    .dataframe tbody tr th:only-of-type {\n",
              "        vertical-align: middle;\n",
              "    }\n",
              "\n",
              "    .dataframe tbody tr th {\n",
              "        vertical-align: top;\n",
              "    }\n",
              "\n",
              "    .dataframe thead th {\n",
              "        text-align: right;\n",
              "    }\n",
              "</style>\n",
              "<table border=\"1\" class=\"dataframe\">\n",
              "  <thead>\n",
              "    <tr style=\"text-align: right;\">\n",
              "      <th></th>\n",
              "      <th>Entity</th>\n",
              "      <th>Code</th>\n",
              "      <th>Year</th>\n",
              "      <th>Deaths - Neoplasms - Sex: Both - Age: Under 5 (Rate)</th>\n",
              "      <th>Deaths - Neoplasms - Sex: Both - Age: Age-standardized (Rate)</th>\n",
              "      <th>Deaths - Neoplasms - Sex: Both - Age: All Ages (Rate)</th>\n",
              "      <th>Deaths - Neoplasms - Sex: Both - Age: 70+ years (Rate)</th>\n",
              "      <th>Deaths - Neoplasms - Sex: Both - Age: 5-14 years (Rate)</th>\n",
              "      <th>Deaths - Neoplasms - Sex: Both - Age: 50-69 years (Rate)</th>\n",
              "      <th>Deaths - Neoplasms - Sex: Both - Age: 15-49 years (Rate)</th>\n",
              "    </tr>\n",
              "  </thead>\n",
              "  <tbody>\n",
              "    <tr>\n",
              "      <th>0</th>\n",
              "      <td>Afghanistan</td>\n",
              "      <td>AFG</td>\n",
              "      <td>1990</td>\n",
              "      <td>21.333432</td>\n",
              "      <td>159.964864</td>\n",
              "      <td>101.409895</td>\n",
              "      <td>1021.494249</td>\n",
              "      <td>9.372839</td>\n",
              "      <td>407.233106</td>\n",
              "      <td>43.620659</td>\n",
              "    </tr>\n",
              "    <tr>\n",
              "      <th>1</th>\n",
              "      <td>Afghanistan</td>\n",
              "      <td>AFG</td>\n",
              "      <td>1991</td>\n",
              "      <td>18.701225</td>\n",
              "      <td>158.455892</td>\n",
              "      <td>93.714269</td>\n",
              "      <td>1013.760277</td>\n",
              "      <td>9.456989</td>\n",
              "      <td>404.506587</td>\n",
              "      <td>40.530804</td>\n",
              "    </tr>\n",
              "    <tr>\n",
              "      <th>2</th>\n",
              "      <td>Afghanistan</td>\n",
              "      <td>AFG</td>\n",
              "      <td>1992</td>\n",
              "      <td>16.801217</td>\n",
              "      <td>157.390960</td>\n",
              "      <td>84.011048</td>\n",
              "      <td>1007.834265</td>\n",
              "      <td>9.737245</td>\n",
              "      <td>402.687908</td>\n",
              "      <td>37.166581</td>\n",
              "    </tr>\n",
              "    <tr>\n",
              "      <th>3</th>\n",
              "      <td>Afghanistan</td>\n",
              "      <td>AFG</td>\n",
              "      <td>1993</td>\n",
              "      <td>16.527773</td>\n",
              "      <td>157.574448</td>\n",
              "      <td>79.038807</td>\n",
              "      <td>1006.565188</td>\n",
              "      <td>9.832934</td>\n",
              "      <td>404.419442</td>\n",
              "      <td>35.723897</td>\n",
              "    </tr>\n",
              "    <tr>\n",
              "      <th>4</th>\n",
              "      <td>Afghanistan</td>\n",
              "      <td>AFG</td>\n",
              "      <td>1994</td>\n",
              "      <td>16.527686</td>\n",
              "      <td>158.031726</td>\n",
              "      <td>77.173172</td>\n",
              "      <td>1006.363704</td>\n",
              "      <td>9.564733</td>\n",
              "      <td>407.332265</td>\n",
              "      <td>35.458716</td>\n",
              "    </tr>\n",
              "    <tr>\n",
              "      <th>...</th>\n",
              "      <td>...</td>\n",
              "      <td>...</td>\n",
              "      <td>...</td>\n",
              "      <td>...</td>\n",
              "      <td>...</td>\n",
              "      <td>...</td>\n",
              "      <td>...</td>\n",
              "      <td>...</td>\n",
              "      <td>...</td>\n",
              "      <td>...</td>\n",
              "    </tr>\n",
              "    <tr>\n",
              "      <th>6835</th>\n",
              "      <td>Zimbabwe</td>\n",
              "      <td>ZWE</td>\n",
              "      <td>2015</td>\n",
              "      <td>2.642187</td>\n",
              "      <td>182.596478</td>\n",
              "      <td>79.281072</td>\n",
              "      <td>1340.306429</td>\n",
              "      <td>2.495452</td>\n",
              "      <td>465.147739</td>\n",
              "      <td>34.026731</td>\n",
              "    </tr>\n",
              "    <tr>\n",
              "      <th>6836</th>\n",
              "      <td>Zimbabwe</td>\n",
              "      <td>ZWE</td>\n",
              "      <td>2016</td>\n",
              "      <td>2.753739</td>\n",
              "      <td>182.424420</td>\n",
              "      <td>80.128518</td>\n",
              "      <td>1336.598159</td>\n",
              "      <td>2.683036</td>\n",
              "      <td>464.267622</td>\n",
              "      <td>34.769286</td>\n",
              "    </tr>\n",
              "    <tr>\n",
              "      <th>6837</th>\n",
              "      <td>Zimbabwe</td>\n",
              "      <td>ZWE</td>\n",
              "      <td>2017</td>\n",
              "      <td>2.752663</td>\n",
              "      <td>181.835774</td>\n",
              "      <td>80.769870</td>\n",
              "      <td>1333.762807</td>\n",
              "      <td>2.768516</td>\n",
              "      <td>461.892531</td>\n",
              "      <td>35.273065</td>\n",
              "    </tr>\n",
              "    <tr>\n",
              "      <th>6838</th>\n",
              "      <td>Zimbabwe</td>\n",
              "      <td>ZWE</td>\n",
              "      <td>2018</td>\n",
              "      <td>2.718565</td>\n",
              "      <td>181.356873</td>\n",
              "      <td>81.484036</td>\n",
              "      <td>1330.364400</td>\n",
              "      <td>2.797381</td>\n",
              "      <td>458.788271</td>\n",
              "      <td>35.747494</td>\n",
              "    </tr>\n",
              "    <tr>\n",
              "      <th>6839</th>\n",
              "      <td>Zimbabwe</td>\n",
              "      <td>ZWE</td>\n",
              "      <td>2019</td>\n",
              "      <td>2.711397</td>\n",
              "      <td>180.933963</td>\n",
              "      <td>82.291345</td>\n",
              "      <td>1327.744695</td>\n",
              "      <td>2.749125</td>\n",
              "      <td>455.847569</td>\n",
              "      <td>36.221210</td>\n",
              "    </tr>\n",
              "  </tbody>\n",
              "</table>\n",
              "<p>6840 rows × 10 columns</p>\n",
              "</div>\n",
              "      <button class=\"colab-df-convert\" onclick=\"convertToInteractive('df-d324766a-4cd3-4ee2-9a13-a34528f21b33')\"\n",
              "              title=\"Convert this dataframe to an interactive table.\"\n",
              "              style=\"display:none;\">\n",
              "        \n",
              "  <svg xmlns=\"http://www.w3.org/2000/svg\" height=\"24px\"viewBox=\"0 0 24 24\"\n",
              "       width=\"24px\">\n",
              "    <path d=\"M0 0h24v24H0V0z\" fill=\"none\"/>\n",
              "    <path d=\"M18.56 5.44l.94 2.06.94-2.06 2.06-.94-2.06-.94-.94-2.06-.94 2.06-2.06.94zm-11 1L8.5 8.5l.94-2.06 2.06-.94-2.06-.94L8.5 2.5l-.94 2.06-2.06.94zm10 10l.94 2.06.94-2.06 2.06-.94-2.06-.94-.94-2.06-.94 2.06-2.06.94z\"/><path d=\"M17.41 7.96l-1.37-1.37c-.4-.4-.92-.59-1.43-.59-.52 0-1.04.2-1.43.59L10.3 9.45l-7.72 7.72c-.78.78-.78 2.05 0 2.83L4 21.41c.39.39.9.59 1.41.59.51 0 1.02-.2 1.41-.59l7.78-7.78 2.81-2.81c.8-.78.8-2.07 0-2.86zM5.41 20L4 18.59l7.72-7.72 1.47 1.35L5.41 20z\"/>\n",
              "  </svg>\n",
              "      </button>\n",
              "      \n",
              "  <style>\n",
              "    .colab-df-container {\n",
              "      display:flex;\n",
              "      flex-wrap:wrap;\n",
              "      gap: 12px;\n",
              "    }\n",
              "\n",
              "    .colab-df-convert {\n",
              "      background-color: #E8F0FE;\n",
              "      border: none;\n",
              "      border-radius: 50%;\n",
              "      cursor: pointer;\n",
              "      display: none;\n",
              "      fill: #1967D2;\n",
              "      height: 32px;\n",
              "      padding: 0 0 0 0;\n",
              "      width: 32px;\n",
              "    }\n",
              "\n",
              "    .colab-df-convert:hover {\n",
              "      background-color: #E2EBFA;\n",
              "      box-shadow: 0px 1px 2px rgba(60, 64, 67, 0.3), 0px 1px 3px 1px rgba(60, 64, 67, 0.15);\n",
              "      fill: #174EA6;\n",
              "    }\n",
              "\n",
              "    [theme=dark] .colab-df-convert {\n",
              "      background-color: #3B4455;\n",
              "      fill: #D2E3FC;\n",
              "    }\n",
              "\n",
              "    [theme=dark] .colab-df-convert:hover {\n",
              "      background-color: #434B5C;\n",
              "      box-shadow: 0px 1px 3px 1px rgba(0, 0, 0, 0.15);\n",
              "      filter: drop-shadow(0px 1px 2px rgba(0, 0, 0, 0.3));\n",
              "      fill: #FFFFFF;\n",
              "    }\n",
              "  </style>\n",
              "\n",
              "      <script>\n",
              "        const buttonEl =\n",
              "          document.querySelector('#df-d324766a-4cd3-4ee2-9a13-a34528f21b33 button.colab-df-convert');\n",
              "        buttonEl.style.display =\n",
              "          google.colab.kernel.accessAllowed ? 'block' : 'none';\n",
              "\n",
              "        async function convertToInteractive(key) {\n",
              "          const element = document.querySelector('#df-d324766a-4cd3-4ee2-9a13-a34528f21b33');\n",
              "          const dataTable =\n",
              "            await google.colab.kernel.invokeFunction('convertToInteractive',\n",
              "                                                     [key], {});\n",
              "          if (!dataTable) return;\n",
              "\n",
              "          const docLinkHtml = 'Like what you see? Visit the ' +\n",
              "            '<a target=\"_blank\" href=https://colab.research.google.com/notebooks/data_table.ipynb>data table notebook</a>'\n",
              "            + ' to learn more about interactive tables.';\n",
              "          element.innerHTML = '';\n",
              "          dataTable['output_type'] = 'display_data';\n",
              "          await google.colab.output.renderOutput(dataTable, element);\n",
              "          const docLink = document.createElement('div');\n",
              "          docLink.innerHTML = docLinkHtml;\n",
              "          element.appendChild(docLink);\n",
              "        }\n",
              "      </script>\n",
              "    </div>\n",
              "  </div>\n",
              "  "
            ]
          },
          "metadata": {},
          "execution_count": 5
        }
      ],
      "source": [
        "df"
      ]
    },
    {
      "cell_type": "markdown",
      "metadata": {
        "id": "WfNSkOS3ua3n"
      },
      "source": [
        "#### Criando um array com o nome de todas as entidades do Dataframe"
      ]
    },
    {
      "cell_type": "code",
      "execution_count": null,
      "metadata": {
        "scrolled": true,
        "id": "ddZD4_j0ua3n",
        "outputId": "a0e2399e-3708-4664-b7e3-b6f8323d7ab3",
        "colab": {
          "base_uri": "https://localhost:8080/"
        }
      },
      "outputs": [
        {
          "output_type": "execute_result",
          "data": {
            "text/plain": [
              "array(['Afghanistan', 'African Region (WHO)', 'Albania', 'Algeria',\n",
              "       'American Samoa', 'Andorra', 'Angola', 'Antigua and Barbuda',\n",
              "       'Argentina', 'Armenia', 'Australia', 'Austria', 'Azerbaijan',\n",
              "       'Bahamas', 'Bahrain', 'Bangladesh', 'Barbados', 'Belarus',\n",
              "       'Belgium', 'Belize', 'Benin', 'Bermuda', 'Bhutan', 'Bolivia',\n",
              "       'Bosnia and Herzegovina', 'Botswana', 'Brazil', 'Brunei',\n",
              "       'Bulgaria', 'Burkina Faso', 'Burundi', 'Cambodia', 'Cameroon',\n",
              "       'Canada', 'Cape Verde', 'Central African Republic', 'Chad',\n",
              "       'Chile', 'China', 'Colombia', 'Comoros', 'Congo', 'Cook Islands',\n",
              "       'Costa Rica', \"Cote d'Ivoire\", 'Croatia', 'Cuba', 'Cyprus',\n",
              "       'Czechia', 'Democratic Republic of Congo', 'Denmark', 'Djibouti',\n",
              "       'Dominica', 'Dominican Republic', 'East Asia & Pacific (WB)',\n",
              "       'Eastern Mediterranean Region (WHO)', 'Ecuador', 'Egypt',\n",
              "       'El Salvador', 'England', 'Equatorial Guinea', 'Eritrea',\n",
              "       'Estonia', 'Eswatini', 'Ethiopia', 'Europe & Central Asia (WB)',\n",
              "       'European Region (WHO)', 'Fiji', 'Finland', 'France', 'G20',\n",
              "       'Gabon', 'Gambia', 'Georgia', 'Germany', 'Ghana', 'Greece',\n",
              "       'Greenland', 'Grenada', 'Guam', 'Guatemala', 'Guinea',\n",
              "       'Guinea-Bissau', 'Guyana', 'Haiti', 'Honduras', 'Hungary',\n",
              "       'Iceland', 'India', 'Indonesia', 'Iran', 'Iraq', 'Ireland',\n",
              "       'Israel', 'Italy', 'Jamaica', 'Japan', 'Jordan', 'Kazakhstan',\n",
              "       'Kenya', 'Kiribati', 'Kuwait', 'Kyrgyzstan', 'Laos',\n",
              "       'Latin America & Caribbean (WB)', 'Latvia', 'Lebanon', 'Lesotho',\n",
              "       'Liberia', 'Libya', 'Lithuania', 'Luxembourg', 'Madagascar',\n",
              "       'Malawi', 'Malaysia', 'Maldives', 'Mali', 'Malta',\n",
              "       'Marshall Islands', 'Mauritania', 'Mauritius', 'Mexico',\n",
              "       'Micronesia (country)', 'Middle East & North Africa (WB)',\n",
              "       'Moldova', 'Monaco', 'Mongolia', 'Montenegro', 'Morocco',\n",
              "       'Mozambique', 'Myanmar', 'Namibia', 'Nauru', 'Nepal',\n",
              "       'Netherlands', 'New Zealand', 'Nicaragua', 'Niger', 'Nigeria',\n",
              "       'Niue', 'North America (WB)', 'North Korea', 'North Macedonia',\n",
              "       'Northern Ireland', 'Northern Mariana Islands', 'Norway',\n",
              "       'OECD Countries', 'Oman', 'Pakistan', 'Palau', 'Palestine',\n",
              "       'Panama', 'Papua New Guinea', 'Paraguay', 'Peru', 'Philippines',\n",
              "       'Poland', 'Portugal', 'Puerto Rico', 'Qatar',\n",
              "       'Region of the Americas (WHO)', 'Romania', 'Russia', 'Rwanda',\n",
              "       'Saint Kitts and Nevis', 'Saint Lucia',\n",
              "       'Saint Vincent and the Grenadines', 'Samoa', 'San Marino',\n",
              "       'Sao Tome and Principe', 'Saudi Arabia', 'Scotland', 'Senegal',\n",
              "       'Serbia', 'Seychelles', 'Sierra Leone', 'Singapore', 'Slovakia',\n",
              "       'Slovenia', 'Solomon Islands', 'Somalia', 'South Africa',\n",
              "       'South Asia (WB)', 'South Korea', 'South Sudan',\n",
              "       'South-East Asia Region (WHO)', 'Spain', 'Sri Lanka',\n",
              "       'Sub-Saharan Africa (WB)', 'Sudan', 'Suriname', 'Sweden',\n",
              "       'Switzerland', 'Syria', 'Taiwan', 'Tajikistan', 'Tanzania',\n",
              "       'Thailand', 'Timor', 'Togo', 'Tokelau', 'Tonga',\n",
              "       'Trinidad and Tobago', 'Tunisia', 'Turkey', 'Turkmenistan',\n",
              "       'Tuvalu', 'Uganda', 'Ukraine', 'United Arab Emirates',\n",
              "       'United Kingdom', 'United States', 'United States Virgin Islands',\n",
              "       'Uruguay', 'Uzbekistan', 'Vanuatu', 'Venezuela', 'Vietnam',\n",
              "       'Wales', 'Western Pacific Region (WHO)', 'World',\n",
              "       'World Bank High Income', 'World Bank Low Income',\n",
              "       'World Bank Lower Middle Income', 'World Bank Upper Middle Income',\n",
              "       'Yemen', 'Zambia', 'Zimbabwe'], dtype=object)"
            ]
          },
          "metadata": {},
          "execution_count": 7
        }
      ],
      "source": [
        "valores_unicos = df['Entity'].unique()\n",
        "valores_unicos"
      ]
    },
    {
      "cell_type": "markdown",
      "metadata": {
        "id": "g1DyLVkMua3o"
      },
      "source": [
        "#### Separando as entidades que são regiões"
      ]
    },
    {
      "cell_type": "code",
      "execution_count": null,
      "metadata": {
        "id": "H5f8TjATua3o",
        "outputId": "d61f4766-85e4-4d62-c1d4-322d20df1981",
        "colab": {
          "base_uri": "https://localhost:8080/"
        }
      },
      "outputs": [
        {
          "output_type": "stream",
          "name": "stdout",
          "text": [
            "                               Regions\n",
            "0                 African Region (WHO)\n",
            "1             East Asia & Pacific (WB)\n",
            "2   Eastern Mediterranean Region (WHO)\n",
            "3           Europe & Central Asia (WB)\n",
            "4                European Region (WHO)\n",
            "5       Latin America & Caribbean (WB)\n",
            "6      Middle East & North Africa (WB)\n",
            "7                   North America (WB)\n",
            "8         Region of the Americas (WHO)\n",
            "9                      South Asia (WB)\n",
            "10        South-East Asia Region (WHO)\n",
            "11             Sub-Saharan Africa (WB)\n",
            "12        Western Pacific Region (WHO)\n"
          ]
        }
      ],
      "source": [
        "#regions\n",
        "\n",
        "array_regions = []\n",
        "\n",
        "for palavra in valores_unicos:\n",
        "    if 'Region' in palavra or 'WB' in palavra or 'WHO' in palavra:\n",
        "        array_regions.append(palavra)\n",
        "\n",
        "df_regions= pd.DataFrame(array_regions, columns=['Regions'])\n",
        "\n",
        "print(df_regions)"
      ]
    },
    {
      "cell_type": "markdown",
      "metadata": {
        "id": "5RMLte17ua3p"
      },
      "source": [
        "#### Separando as entidades que são agrupamentos de países de acordo com a renda"
      ]
    },
    {
      "cell_type": "code",
      "execution_count": null,
      "metadata": {
        "id": "MlAx76b-ua3p",
        "outputId": "bd224183-b7e3-492a-868a-639e5a036d3b"
      },
      "outputs": [
        {
          "name": "stdout",
          "output_type": "stream",
          "text": [
            "                   Country Income\n",
            "0          World Bank High Income\n",
            "1           World Bank Low Income\n",
            "2  World Bank Lower Middle Income\n",
            "3  World Bank Upper Middle Income\n"
          ]
        }
      ],
      "source": [
        "#países de acordo com a renda\n",
        "array_country_income = []\n",
        "\n",
        "for palavra in valores_unicos:\n",
        "    if 'Income' in palavra:\n",
        "        array_country_income.append(palavra)\n",
        "\n",
        "df_country_income= pd.DataFrame(array_country_income, columns=['Country Income'])\n",
        "\n",
        "print(df_country_income)"
      ]
    },
    {
      "cell_type": "markdown",
      "metadata": {
        "id": "jUWmgBw2ua3q"
      },
      "source": [
        "#### Retirando as entidades que não são países"
      ]
    },
    {
      "cell_type": "code",
      "execution_count": null,
      "metadata": {
        "id": "Qj32D6UIua3q"
      },
      "outputs": [],
      "source": [
        "#retirando\n",
        "\n",
        "# Obter os valores únicos da coluna 'Entity' que atendem ao critério\n",
        "array_not_a_country = []\n",
        "\n",
        "for palavra in valores_unicos:\n",
        "    if 'G20' in palavra or 'WB' in palavra or 'WHO' in palavra or 'Income' in palavra:\n",
        "        array_not_a_country.append(palavra)\n",
        "\n",
        "df_not_a_country = pd.DataFrame(array_not_a_country, columns=['Not a Country'])\n"
      ]
    },
    {
      "cell_type": "code",
      "execution_count": null,
      "metadata": {
        "id": "adGZC689ua3r",
        "outputId": "6aa62649-1e40-4f41-c3a0-2aaa8315ace0"
      },
      "outputs": [
        {
          "data": {
            "text/html": [
              "<div>\n",
              "<style scoped>\n",
              "    .dataframe tbody tr th:only-of-type {\n",
              "        vertical-align: middle;\n",
              "    }\n",
              "\n",
              "    .dataframe tbody tr th {\n",
              "        vertical-align: top;\n",
              "    }\n",
              "\n",
              "    .dataframe thead th {\n",
              "        text-align: right;\n",
              "    }\n",
              "</style>\n",
              "<table border=\"1\" class=\"dataframe\">\n",
              "  <thead>\n",
              "    <tr style=\"text-align: right;\">\n",
              "      <th></th>\n",
              "      <th>Not a Country</th>\n",
              "    </tr>\n",
              "  </thead>\n",
              "  <tbody>\n",
              "    <tr>\n",
              "      <th>0</th>\n",
              "      <td>African Region (WHO)</td>\n",
              "    </tr>\n",
              "    <tr>\n",
              "      <th>1</th>\n",
              "      <td>East Asia &amp; Pacific (WB)</td>\n",
              "    </tr>\n",
              "    <tr>\n",
              "      <th>2</th>\n",
              "      <td>Eastern Mediterranean Region (WHO)</td>\n",
              "    </tr>\n",
              "    <tr>\n",
              "      <th>3</th>\n",
              "      <td>Europe &amp; Central Asia (WB)</td>\n",
              "    </tr>\n",
              "    <tr>\n",
              "      <th>4</th>\n",
              "      <td>European Region (WHO)</td>\n",
              "    </tr>\n",
              "    <tr>\n",
              "      <th>5</th>\n",
              "      <td>G20</td>\n",
              "    </tr>\n",
              "    <tr>\n",
              "      <th>6</th>\n",
              "      <td>Latin America &amp; Caribbean (WB)</td>\n",
              "    </tr>\n",
              "    <tr>\n",
              "      <th>7</th>\n",
              "      <td>Middle East &amp; North Africa (WB)</td>\n",
              "    </tr>\n",
              "    <tr>\n",
              "      <th>8</th>\n",
              "      <td>North America (WB)</td>\n",
              "    </tr>\n",
              "    <tr>\n",
              "      <th>9</th>\n",
              "      <td>Region of the Americas (WHO)</td>\n",
              "    </tr>\n",
              "    <tr>\n",
              "      <th>10</th>\n",
              "      <td>South Asia (WB)</td>\n",
              "    </tr>\n",
              "    <tr>\n",
              "      <th>11</th>\n",
              "      <td>South-East Asia Region (WHO)</td>\n",
              "    </tr>\n",
              "    <tr>\n",
              "      <th>12</th>\n",
              "      <td>Sub-Saharan Africa (WB)</td>\n",
              "    </tr>\n",
              "    <tr>\n",
              "      <th>13</th>\n",
              "      <td>Western Pacific Region (WHO)</td>\n",
              "    </tr>\n",
              "    <tr>\n",
              "      <th>14</th>\n",
              "      <td>World Bank High Income</td>\n",
              "    </tr>\n",
              "    <tr>\n",
              "      <th>15</th>\n",
              "      <td>World Bank Low Income</td>\n",
              "    </tr>\n",
              "    <tr>\n",
              "      <th>16</th>\n",
              "      <td>World Bank Lower Middle Income</td>\n",
              "    </tr>\n",
              "    <tr>\n",
              "      <th>17</th>\n",
              "      <td>World Bank Upper Middle Income</td>\n",
              "    </tr>\n",
              "  </tbody>\n",
              "</table>\n",
              "</div>"
            ],
            "text/plain": [
              "                         Not a Country\n",
              "0                 African Region (WHO)\n",
              "1             East Asia & Pacific (WB)\n",
              "2   Eastern Mediterranean Region (WHO)\n",
              "3           Europe & Central Asia (WB)\n",
              "4                European Region (WHO)\n",
              "5                                  G20\n",
              "6       Latin America & Caribbean (WB)\n",
              "7      Middle East & North Africa (WB)\n",
              "8                   North America (WB)\n",
              "9         Region of the Americas (WHO)\n",
              "10                     South Asia (WB)\n",
              "11        South-East Asia Region (WHO)\n",
              "12             Sub-Saharan Africa (WB)\n",
              "13        Western Pacific Region (WHO)\n",
              "14              World Bank High Income\n",
              "15               World Bank Low Income\n",
              "16      World Bank Lower Middle Income\n",
              "17      World Bank Upper Middle Income"
            ]
          },
          "execution_count": 11,
          "metadata": {},
          "output_type": "execute_result"
        }
      ],
      "source": [
        "df_not_a_country"
      ]
    },
    {
      "cell_type": "code",
      "execution_count": null,
      "metadata": {
        "id": "nhvD_yM9ua3r",
        "outputId": "9b9bd0e0-915d-48bc-c401-08713c73b01e"
      },
      "outputs": [
        {
          "name": "stdout",
          "output_type": "stream",
          "text": [
            "\n",
            "DataFrame após a eliminação:\n"
          ]
        },
        {
          "data": {
            "text/html": [
              "<div>\n",
              "<style scoped>\n",
              "    .dataframe tbody tr th:only-of-type {\n",
              "        vertical-align: middle;\n",
              "    }\n",
              "\n",
              "    .dataframe tbody tr th {\n",
              "        vertical-align: top;\n",
              "    }\n",
              "\n",
              "    .dataframe thead th {\n",
              "        text-align: right;\n",
              "    }\n",
              "</style>\n",
              "<table border=\"1\" class=\"dataframe\">\n",
              "  <thead>\n",
              "    <tr style=\"text-align: right;\">\n",
              "      <th></th>\n",
              "      <th>Entity</th>\n",
              "      <th>Code</th>\n",
              "      <th>Year</th>\n",
              "      <th>Deaths - Neoplasms - Sex: Both - Age: Under 5 (Rate)</th>\n",
              "      <th>Deaths - Neoplasms - Sex: Both - Age: Age-standardized (Rate)</th>\n",
              "      <th>Deaths - Neoplasms - Sex: Both - Age: All Ages (Rate)</th>\n",
              "      <th>Deaths - Neoplasms - Sex: Both - Age: 70+ years (Rate)</th>\n",
              "      <th>Deaths - Neoplasms - Sex: Both - Age: 5-14 years (Rate)</th>\n",
              "      <th>Deaths - Neoplasms - Sex: Both - Age: 50-69 years (Rate)</th>\n",
              "      <th>Deaths - Neoplasms - Sex: Both - Age: 15-49 years (Rate)</th>\n",
              "    </tr>\n",
              "  </thead>\n",
              "  <tbody>\n",
              "    <tr>\n",
              "      <th>0</th>\n",
              "      <td>Afghanistan</td>\n",
              "      <td>AFG</td>\n",
              "      <td>1990</td>\n",
              "      <td>21.333432</td>\n",
              "      <td>159.964864</td>\n",
              "      <td>101.409895</td>\n",
              "      <td>1021.494249</td>\n",
              "      <td>9.372839</td>\n",
              "      <td>407.233106</td>\n",
              "      <td>43.620659</td>\n",
              "    </tr>\n",
              "    <tr>\n",
              "      <th>1</th>\n",
              "      <td>Afghanistan</td>\n",
              "      <td>AFG</td>\n",
              "      <td>1991</td>\n",
              "      <td>18.701225</td>\n",
              "      <td>158.455892</td>\n",
              "      <td>93.714269</td>\n",
              "      <td>1013.760277</td>\n",
              "      <td>9.456989</td>\n",
              "      <td>404.506587</td>\n",
              "      <td>40.530804</td>\n",
              "    </tr>\n",
              "    <tr>\n",
              "      <th>2</th>\n",
              "      <td>Afghanistan</td>\n",
              "      <td>AFG</td>\n",
              "      <td>1992</td>\n",
              "      <td>16.801217</td>\n",
              "      <td>157.390960</td>\n",
              "      <td>84.011048</td>\n",
              "      <td>1007.834265</td>\n",
              "      <td>9.737245</td>\n",
              "      <td>402.687908</td>\n",
              "      <td>37.166581</td>\n",
              "    </tr>\n",
              "    <tr>\n",
              "      <th>3</th>\n",
              "      <td>Afghanistan</td>\n",
              "      <td>AFG</td>\n",
              "      <td>1993</td>\n",
              "      <td>16.527773</td>\n",
              "      <td>157.574448</td>\n",
              "      <td>79.038807</td>\n",
              "      <td>1006.565188</td>\n",
              "      <td>9.832934</td>\n",
              "      <td>404.419442</td>\n",
              "      <td>35.723897</td>\n",
              "    </tr>\n",
              "    <tr>\n",
              "      <th>4</th>\n",
              "      <td>Afghanistan</td>\n",
              "      <td>AFG</td>\n",
              "      <td>1994</td>\n",
              "      <td>16.527686</td>\n",
              "      <td>158.031726</td>\n",
              "      <td>77.173172</td>\n",
              "      <td>1006.363704</td>\n",
              "      <td>9.564733</td>\n",
              "      <td>407.332265</td>\n",
              "      <td>35.458716</td>\n",
              "    </tr>\n",
              "    <tr>\n",
              "      <th>...</th>\n",
              "      <td>...</td>\n",
              "      <td>...</td>\n",
              "      <td>...</td>\n",
              "      <td>...</td>\n",
              "      <td>...</td>\n",
              "      <td>...</td>\n",
              "      <td>...</td>\n",
              "      <td>...</td>\n",
              "      <td>...</td>\n",
              "      <td>...</td>\n",
              "    </tr>\n",
              "    <tr>\n",
              "      <th>6835</th>\n",
              "      <td>Zimbabwe</td>\n",
              "      <td>ZWE</td>\n",
              "      <td>2015</td>\n",
              "      <td>2.642187</td>\n",
              "      <td>182.596478</td>\n",
              "      <td>79.281072</td>\n",
              "      <td>1340.306429</td>\n",
              "      <td>2.495452</td>\n",
              "      <td>465.147739</td>\n",
              "      <td>34.026731</td>\n",
              "    </tr>\n",
              "    <tr>\n",
              "      <th>6836</th>\n",
              "      <td>Zimbabwe</td>\n",
              "      <td>ZWE</td>\n",
              "      <td>2016</td>\n",
              "      <td>2.753739</td>\n",
              "      <td>182.424420</td>\n",
              "      <td>80.128518</td>\n",
              "      <td>1336.598159</td>\n",
              "      <td>2.683036</td>\n",
              "      <td>464.267622</td>\n",
              "      <td>34.769286</td>\n",
              "    </tr>\n",
              "    <tr>\n",
              "      <th>6837</th>\n",
              "      <td>Zimbabwe</td>\n",
              "      <td>ZWE</td>\n",
              "      <td>2017</td>\n",
              "      <td>2.752663</td>\n",
              "      <td>181.835774</td>\n",
              "      <td>80.769870</td>\n",
              "      <td>1333.762807</td>\n",
              "      <td>2.768516</td>\n",
              "      <td>461.892531</td>\n",
              "      <td>35.273065</td>\n",
              "    </tr>\n",
              "    <tr>\n",
              "      <th>6838</th>\n",
              "      <td>Zimbabwe</td>\n",
              "      <td>ZWE</td>\n",
              "      <td>2018</td>\n",
              "      <td>2.718565</td>\n",
              "      <td>181.356873</td>\n",
              "      <td>81.484036</td>\n",
              "      <td>1330.364400</td>\n",
              "      <td>2.797381</td>\n",
              "      <td>458.788271</td>\n",
              "      <td>35.747494</td>\n",
              "    </tr>\n",
              "    <tr>\n",
              "      <th>6839</th>\n",
              "      <td>Zimbabwe</td>\n",
              "      <td>ZWE</td>\n",
              "      <td>2019</td>\n",
              "      <td>2.711397</td>\n",
              "      <td>180.933963</td>\n",
              "      <td>82.291345</td>\n",
              "      <td>1327.744695</td>\n",
              "      <td>2.749125</td>\n",
              "      <td>455.847569</td>\n",
              "      <td>36.221210</td>\n",
              "    </tr>\n",
              "  </tbody>\n",
              "</table>\n",
              "<p>6300 rows × 10 columns</p>\n",
              "</div>"
            ],
            "text/plain": [
              "           Entity Code  Year  \\\n",
              "0     Afghanistan  AFG  1990   \n",
              "1     Afghanistan  AFG  1991   \n",
              "2     Afghanistan  AFG  1992   \n",
              "3     Afghanistan  AFG  1993   \n",
              "4     Afghanistan  AFG  1994   \n",
              "...           ...  ...   ...   \n",
              "6835     Zimbabwe  ZWE  2015   \n",
              "6836     Zimbabwe  ZWE  2016   \n",
              "6837     Zimbabwe  ZWE  2017   \n",
              "6838     Zimbabwe  ZWE  2018   \n",
              "6839     Zimbabwe  ZWE  2019   \n",
              "\n",
              "      Deaths - Neoplasms - Sex: Both - Age: Under 5 (Rate)  \\\n",
              "0                                             21.333432      \n",
              "1                                             18.701225      \n",
              "2                                             16.801217      \n",
              "3                                             16.527773      \n",
              "4                                             16.527686      \n",
              "...                                                 ...      \n",
              "6835                                           2.642187      \n",
              "6836                                           2.753739      \n",
              "6837                                           2.752663      \n",
              "6838                                           2.718565      \n",
              "6839                                           2.711397      \n",
              "\n",
              "      Deaths - Neoplasms - Sex: Both - Age: Age-standardized (Rate)  \\\n",
              "0                                            159.964864               \n",
              "1                                            158.455892               \n",
              "2                                            157.390960               \n",
              "3                                            157.574448               \n",
              "4                                            158.031726               \n",
              "...                                                 ...               \n",
              "6835                                         182.596478               \n",
              "6836                                         182.424420               \n",
              "6837                                         181.835774               \n",
              "6838                                         181.356873               \n",
              "6839                                         180.933963               \n",
              "\n",
              "      Deaths - Neoplasms - Sex: Both - Age: All Ages (Rate)  \\\n",
              "0                                            101.409895       \n",
              "1                                             93.714269       \n",
              "2                                             84.011048       \n",
              "3                                             79.038807       \n",
              "4                                             77.173172       \n",
              "...                                                 ...       \n",
              "6835                                          79.281072       \n",
              "6836                                          80.128518       \n",
              "6837                                          80.769870       \n",
              "6838                                          81.484036       \n",
              "6839                                          82.291345       \n",
              "\n",
              "      Deaths - Neoplasms - Sex: Both - Age: 70+ years (Rate)  \\\n",
              "0                                           1021.494249        \n",
              "1                                           1013.760277        \n",
              "2                                           1007.834265        \n",
              "3                                           1006.565188        \n",
              "4                                           1006.363704        \n",
              "...                                                 ...        \n",
              "6835                                        1340.306429        \n",
              "6836                                        1336.598159        \n",
              "6837                                        1333.762807        \n",
              "6838                                        1330.364400        \n",
              "6839                                        1327.744695        \n",
              "\n",
              "      Deaths - Neoplasms - Sex: Both - Age: 5-14 years (Rate)  \\\n",
              "0                                              9.372839         \n",
              "1                                              9.456989         \n",
              "2                                              9.737245         \n",
              "3                                              9.832934         \n",
              "4                                              9.564733         \n",
              "...                                                 ...         \n",
              "6835                                           2.495452         \n",
              "6836                                           2.683036         \n",
              "6837                                           2.768516         \n",
              "6838                                           2.797381         \n",
              "6839                                           2.749125         \n",
              "\n",
              "      Deaths - Neoplasms - Sex: Both - Age: 50-69 years (Rate)  \\\n",
              "0                                            407.233106          \n",
              "1                                            404.506587          \n",
              "2                                            402.687908          \n",
              "3                                            404.419442          \n",
              "4                                            407.332265          \n",
              "...                                                 ...          \n",
              "6835                                         465.147739          \n",
              "6836                                         464.267622          \n",
              "6837                                         461.892531          \n",
              "6838                                         458.788271          \n",
              "6839                                         455.847569          \n",
              "\n",
              "      Deaths - Neoplasms - Sex: Both - Age: 15-49 years (Rate)  \n",
              "0                                             43.620659         \n",
              "1                                             40.530804         \n",
              "2                                             37.166581         \n",
              "3                                             35.723897         \n",
              "4                                             35.458716         \n",
              "...                                                 ...         \n",
              "6835                                          34.026731         \n",
              "6836                                          34.769286         \n",
              "6837                                          35.273065         \n",
              "6838                                          35.747494         \n",
              "6839                                          36.221210         \n",
              "\n",
              "[6300 rows x 10 columns]"
            ]
          },
          "execution_count": 12,
          "metadata": {},
          "output_type": "execute_result"
        }
      ],
      "source": [
        "# Eliminar os valores presentes em df_regions do DataFrame df\n",
        "df = df[~df['Entity'].isin(df_not_a_country['Not a Country'])]\n",
        "\n",
        "# Exibir o DataFrame após a eliminação\n",
        "print(\"\\nDataFrame após a eliminação:\")\n",
        "df"
      ]
    },
    {
      "cell_type": "markdown",
      "metadata": {
        "id": "SPY49sQyjzHg"
      },
      "source": [
        "#### 2.2 Limpeza e Transformação de Dados Necessários"
      ]
    },
    {
      "cell_type": "markdown",
      "metadata": {
        "id": "p6jzEp53ifxe"
      },
      "source": [
        "*Para facilitar a manipulação das colunas, abreviamos Deaths - Neoplasms - Sex: Both - Age para **DNS**\n",
        "\n",
        "\n"
      ]
    },
    {
      "cell_type": "code",
      "execution_count": null,
      "metadata": {
        "id": "MqC9zBBAZFrl"
      },
      "outputs": [],
      "source": [
        "df = df.rename(columns={ \"Deaths - Neoplasms - Sex: Both - Age: Under 5 (Rate)\": \"DNS < 5\",\n",
        "                \"Deaths - Neoplasms - Sex: Both - Age: Age-standardized (Rate)\": \"DNS Padronizado\",\n",
        "                \"Deaths - Neoplasms - Sex: Both - Age: All Ages (Rate)\": \"DNS all ages\",\n",
        "                \"Deaths - Neoplasms - Sex: Both - Age: 70+ years (Rate)\" : \"DNS > 70\",\n",
        "                \"Deaths - Neoplasms - Sex: Both - Age: 5-14 years (Rate)\" : \"5 < DNS < 14\",\n",
        "                \"Deaths - Neoplasms - Sex: Both - Age: 50-69 years (Rate)\" : \"50 < DNS < 69\",\n",
        "                \"Deaths - Neoplasms - Sex: Both - Age: 15-49 years (Rate)\" : \"15 < DNS < 49\",\n",
        "                 \"Entity\":\"Country\" })"
      ]
    },
    {
      "cell_type": "code",
      "execution_count": null,
      "metadata": {
        "id": "1NWT4fFcua3s",
        "outputId": "101e9d97-8856-4645-89af-c324939fb223"
      },
      "outputs": [
        {
          "data": {
            "text/html": [
              "<div>\n",
              "<style scoped>\n",
              "    .dataframe tbody tr th:only-of-type {\n",
              "        vertical-align: middle;\n",
              "    }\n",
              "\n",
              "    .dataframe tbody tr th {\n",
              "        vertical-align: top;\n",
              "    }\n",
              "\n",
              "    .dataframe thead th {\n",
              "        text-align: right;\n",
              "    }\n",
              "</style>\n",
              "<table border=\"1\" class=\"dataframe\">\n",
              "  <thead>\n",
              "    <tr style=\"text-align: right;\">\n",
              "      <th></th>\n",
              "      <th>Country</th>\n",
              "      <th>Code</th>\n",
              "      <th>Year</th>\n",
              "      <th>DNS &lt; 5</th>\n",
              "      <th>DNS Padronizado</th>\n",
              "      <th>DNS all ages</th>\n",
              "      <th>DNS &gt; 70</th>\n",
              "      <th>5 &lt; DNS &lt; 14</th>\n",
              "      <th>50 &lt; DNS &lt; 69</th>\n",
              "      <th>15 &lt; DNS &lt; 49</th>\n",
              "    </tr>\n",
              "  </thead>\n",
              "  <tbody>\n",
              "    <tr>\n",
              "      <th>0</th>\n",
              "      <td>Afghanistan</td>\n",
              "      <td>AFG</td>\n",
              "      <td>1990</td>\n",
              "      <td>21.333432</td>\n",
              "      <td>159.964864</td>\n",
              "      <td>101.409895</td>\n",
              "      <td>1021.494249</td>\n",
              "      <td>9.372839</td>\n",
              "      <td>407.233106</td>\n",
              "      <td>43.620659</td>\n",
              "    </tr>\n",
              "    <tr>\n",
              "      <th>1</th>\n",
              "      <td>Afghanistan</td>\n",
              "      <td>AFG</td>\n",
              "      <td>1991</td>\n",
              "      <td>18.701225</td>\n",
              "      <td>158.455892</td>\n",
              "      <td>93.714269</td>\n",
              "      <td>1013.760277</td>\n",
              "      <td>9.456989</td>\n",
              "      <td>404.506587</td>\n",
              "      <td>40.530804</td>\n",
              "    </tr>\n",
              "    <tr>\n",
              "      <th>2</th>\n",
              "      <td>Afghanistan</td>\n",
              "      <td>AFG</td>\n",
              "      <td>1992</td>\n",
              "      <td>16.801217</td>\n",
              "      <td>157.390960</td>\n",
              "      <td>84.011048</td>\n",
              "      <td>1007.834265</td>\n",
              "      <td>9.737245</td>\n",
              "      <td>402.687908</td>\n",
              "      <td>37.166581</td>\n",
              "    </tr>\n",
              "    <tr>\n",
              "      <th>3</th>\n",
              "      <td>Afghanistan</td>\n",
              "      <td>AFG</td>\n",
              "      <td>1993</td>\n",
              "      <td>16.527773</td>\n",
              "      <td>157.574448</td>\n",
              "      <td>79.038807</td>\n",
              "      <td>1006.565188</td>\n",
              "      <td>9.832934</td>\n",
              "      <td>404.419442</td>\n",
              "      <td>35.723897</td>\n",
              "    </tr>\n",
              "    <tr>\n",
              "      <th>4</th>\n",
              "      <td>Afghanistan</td>\n",
              "      <td>AFG</td>\n",
              "      <td>1994</td>\n",
              "      <td>16.527686</td>\n",
              "      <td>158.031726</td>\n",
              "      <td>77.173172</td>\n",
              "      <td>1006.363704</td>\n",
              "      <td>9.564733</td>\n",
              "      <td>407.332265</td>\n",
              "      <td>35.458716</td>\n",
              "    </tr>\n",
              "    <tr>\n",
              "      <th>...</th>\n",
              "      <td>...</td>\n",
              "      <td>...</td>\n",
              "      <td>...</td>\n",
              "      <td>...</td>\n",
              "      <td>...</td>\n",
              "      <td>...</td>\n",
              "      <td>...</td>\n",
              "      <td>...</td>\n",
              "      <td>...</td>\n",
              "      <td>...</td>\n",
              "    </tr>\n",
              "    <tr>\n",
              "      <th>6835</th>\n",
              "      <td>Zimbabwe</td>\n",
              "      <td>ZWE</td>\n",
              "      <td>2015</td>\n",
              "      <td>2.642187</td>\n",
              "      <td>182.596478</td>\n",
              "      <td>79.281072</td>\n",
              "      <td>1340.306429</td>\n",
              "      <td>2.495452</td>\n",
              "      <td>465.147739</td>\n",
              "      <td>34.026731</td>\n",
              "    </tr>\n",
              "    <tr>\n",
              "      <th>6836</th>\n",
              "      <td>Zimbabwe</td>\n",
              "      <td>ZWE</td>\n",
              "      <td>2016</td>\n",
              "      <td>2.753739</td>\n",
              "      <td>182.424420</td>\n",
              "      <td>80.128518</td>\n",
              "      <td>1336.598159</td>\n",
              "      <td>2.683036</td>\n",
              "      <td>464.267622</td>\n",
              "      <td>34.769286</td>\n",
              "    </tr>\n",
              "    <tr>\n",
              "      <th>6837</th>\n",
              "      <td>Zimbabwe</td>\n",
              "      <td>ZWE</td>\n",
              "      <td>2017</td>\n",
              "      <td>2.752663</td>\n",
              "      <td>181.835774</td>\n",
              "      <td>80.769870</td>\n",
              "      <td>1333.762807</td>\n",
              "      <td>2.768516</td>\n",
              "      <td>461.892531</td>\n",
              "      <td>35.273065</td>\n",
              "    </tr>\n",
              "    <tr>\n",
              "      <th>6838</th>\n",
              "      <td>Zimbabwe</td>\n",
              "      <td>ZWE</td>\n",
              "      <td>2018</td>\n",
              "      <td>2.718565</td>\n",
              "      <td>181.356873</td>\n",
              "      <td>81.484036</td>\n",
              "      <td>1330.364400</td>\n",
              "      <td>2.797381</td>\n",
              "      <td>458.788271</td>\n",
              "      <td>35.747494</td>\n",
              "    </tr>\n",
              "    <tr>\n",
              "      <th>6839</th>\n",
              "      <td>Zimbabwe</td>\n",
              "      <td>ZWE</td>\n",
              "      <td>2019</td>\n",
              "      <td>2.711397</td>\n",
              "      <td>180.933963</td>\n",
              "      <td>82.291345</td>\n",
              "      <td>1327.744695</td>\n",
              "      <td>2.749125</td>\n",
              "      <td>455.847569</td>\n",
              "      <td>36.221210</td>\n",
              "    </tr>\n",
              "  </tbody>\n",
              "</table>\n",
              "<p>6300 rows × 10 columns</p>\n",
              "</div>"
            ],
            "text/plain": [
              "          Country Code  Year    DNS < 5  DNS Padronizado  DNS all ages   \n",
              "0     Afghanistan  AFG  1990  21.333432       159.964864    101.409895  \\\n",
              "1     Afghanistan  AFG  1991  18.701225       158.455892     93.714269   \n",
              "2     Afghanistan  AFG  1992  16.801217       157.390960     84.011048   \n",
              "3     Afghanistan  AFG  1993  16.527773       157.574448     79.038807   \n",
              "4     Afghanistan  AFG  1994  16.527686       158.031726     77.173172   \n",
              "...           ...  ...   ...        ...              ...           ...   \n",
              "6835     Zimbabwe  ZWE  2015   2.642187       182.596478     79.281072   \n",
              "6836     Zimbabwe  ZWE  2016   2.753739       182.424420     80.128518   \n",
              "6837     Zimbabwe  ZWE  2017   2.752663       181.835774     80.769870   \n",
              "6838     Zimbabwe  ZWE  2018   2.718565       181.356873     81.484036   \n",
              "6839     Zimbabwe  ZWE  2019   2.711397       180.933963     82.291345   \n",
              "\n",
              "         DNS > 70  5 < DNS < 14  50 < DNS < 69  15 < DNS < 49  \n",
              "0     1021.494249      9.372839     407.233106      43.620659  \n",
              "1     1013.760277      9.456989     404.506587      40.530804  \n",
              "2     1007.834265      9.737245     402.687908      37.166581  \n",
              "3     1006.565188      9.832934     404.419442      35.723897  \n",
              "4     1006.363704      9.564733     407.332265      35.458716  \n",
              "...           ...           ...            ...            ...  \n",
              "6835  1340.306429      2.495452     465.147739      34.026731  \n",
              "6836  1336.598159      2.683036     464.267622      34.769286  \n",
              "6837  1333.762807      2.768516     461.892531      35.273065  \n",
              "6838  1330.364400      2.797381     458.788271      35.747494  \n",
              "6839  1327.744695      2.749125     455.847569      36.221210  \n",
              "\n",
              "[6300 rows x 10 columns]"
            ]
          },
          "execution_count": 47,
          "metadata": {},
          "output_type": "execute_result"
        }
      ],
      "source": [
        "df"
      ]
    },
    {
      "cell_type": "markdown",
      "metadata": {
        "id": "6b13IUtWua3t"
      },
      "source": [
        "Vamos alterar a ordem das colunas com DNS, para facilitar a leitura"
      ]
    },
    {
      "cell_type": "code",
      "execution_count": null,
      "metadata": {
        "id": "T7Z5X73xua3t",
        "outputId": "1921d900-0af1-4a35-b055-bd903baed0fb"
      },
      "outputs": [
        {
          "data": {
            "text/plain": [
              "Index(['Country', 'Code', 'Year', 'DNS < 5', 'DNS Padronizado', 'DNS all ages',\n",
              "       'DNS > 70', '5 < DNS < 14', '50 < DNS < 69', '15 < DNS < 49'],\n",
              "      dtype='object')"
            ]
          },
          "execution_count": 48,
          "metadata": {},
          "output_type": "execute_result"
        }
      ],
      "source": [
        "#Verificando as colunas com .keys()\n",
        "df.keys()"
      ]
    },
    {
      "cell_type": "code",
      "execution_count": null,
      "metadata": {
        "id": "TaTOobj8ua3t",
        "outputId": "9c08ae8d-7fd4-4e58-be4a-2c9aac046721"
      },
      "outputs": [
        {
          "data": {
            "text/html": [
              "<div>\n",
              "<style scoped>\n",
              "    .dataframe tbody tr th:only-of-type {\n",
              "        vertical-align: middle;\n",
              "    }\n",
              "\n",
              "    .dataframe tbody tr th {\n",
              "        vertical-align: top;\n",
              "    }\n",
              "\n",
              "    .dataframe thead th {\n",
              "        text-align: right;\n",
              "    }\n",
              "</style>\n",
              "<table border=\"1\" class=\"dataframe\">\n",
              "  <thead>\n",
              "    <tr style=\"text-align: right;\">\n",
              "      <th></th>\n",
              "      <th>Country</th>\n",
              "      <th>Code</th>\n",
              "      <th>Year</th>\n",
              "      <th>DNS &lt; 5</th>\n",
              "      <th>5 &lt; DNS &lt; 14</th>\n",
              "      <th>15 &lt; DNS &lt; 49</th>\n",
              "      <th>50 &lt; DNS &lt; 69</th>\n",
              "      <th>DNS &gt; 70</th>\n",
              "      <th>DNS all ages</th>\n",
              "      <th>DNS Padronizado</th>\n",
              "    </tr>\n",
              "  </thead>\n",
              "  <tbody>\n",
              "    <tr>\n",
              "      <th>0</th>\n",
              "      <td>Afghanistan</td>\n",
              "      <td>AFG</td>\n",
              "      <td>1990</td>\n",
              "      <td>21.333432</td>\n",
              "      <td>9.372839</td>\n",
              "      <td>43.620659</td>\n",
              "      <td>407.233106</td>\n",
              "      <td>1021.494249</td>\n",
              "      <td>101.409895</td>\n",
              "      <td>159.964864</td>\n",
              "    </tr>\n",
              "    <tr>\n",
              "      <th>1</th>\n",
              "      <td>Afghanistan</td>\n",
              "      <td>AFG</td>\n",
              "      <td>1991</td>\n",
              "      <td>18.701225</td>\n",
              "      <td>9.456989</td>\n",
              "      <td>40.530804</td>\n",
              "      <td>404.506587</td>\n",
              "      <td>1013.760277</td>\n",
              "      <td>93.714269</td>\n",
              "      <td>158.455892</td>\n",
              "    </tr>\n",
              "    <tr>\n",
              "      <th>2</th>\n",
              "      <td>Afghanistan</td>\n",
              "      <td>AFG</td>\n",
              "      <td>1992</td>\n",
              "      <td>16.801217</td>\n",
              "      <td>9.737245</td>\n",
              "      <td>37.166581</td>\n",
              "      <td>402.687908</td>\n",
              "      <td>1007.834265</td>\n",
              "      <td>84.011048</td>\n",
              "      <td>157.390960</td>\n",
              "    </tr>\n",
              "    <tr>\n",
              "      <th>3</th>\n",
              "      <td>Afghanistan</td>\n",
              "      <td>AFG</td>\n",
              "      <td>1993</td>\n",
              "      <td>16.527773</td>\n",
              "      <td>9.832934</td>\n",
              "      <td>35.723897</td>\n",
              "      <td>404.419442</td>\n",
              "      <td>1006.565188</td>\n",
              "      <td>79.038807</td>\n",
              "      <td>157.574448</td>\n",
              "    </tr>\n",
              "    <tr>\n",
              "      <th>4</th>\n",
              "      <td>Afghanistan</td>\n",
              "      <td>AFG</td>\n",
              "      <td>1994</td>\n",
              "      <td>16.527686</td>\n",
              "      <td>9.564733</td>\n",
              "      <td>35.458716</td>\n",
              "      <td>407.332265</td>\n",
              "      <td>1006.363704</td>\n",
              "      <td>77.173172</td>\n",
              "      <td>158.031726</td>\n",
              "    </tr>\n",
              "    <tr>\n",
              "      <th>...</th>\n",
              "      <td>...</td>\n",
              "      <td>...</td>\n",
              "      <td>...</td>\n",
              "      <td>...</td>\n",
              "      <td>...</td>\n",
              "      <td>...</td>\n",
              "      <td>...</td>\n",
              "      <td>...</td>\n",
              "      <td>...</td>\n",
              "      <td>...</td>\n",
              "    </tr>\n",
              "    <tr>\n",
              "      <th>6835</th>\n",
              "      <td>Zimbabwe</td>\n",
              "      <td>ZWE</td>\n",
              "      <td>2015</td>\n",
              "      <td>2.642187</td>\n",
              "      <td>2.495452</td>\n",
              "      <td>34.026731</td>\n",
              "      <td>465.147739</td>\n",
              "      <td>1340.306429</td>\n",
              "      <td>79.281072</td>\n",
              "      <td>182.596478</td>\n",
              "    </tr>\n",
              "    <tr>\n",
              "      <th>6836</th>\n",
              "      <td>Zimbabwe</td>\n",
              "      <td>ZWE</td>\n",
              "      <td>2016</td>\n",
              "      <td>2.753739</td>\n",
              "      <td>2.683036</td>\n",
              "      <td>34.769286</td>\n",
              "      <td>464.267622</td>\n",
              "      <td>1336.598159</td>\n",
              "      <td>80.128518</td>\n",
              "      <td>182.424420</td>\n",
              "    </tr>\n",
              "    <tr>\n",
              "      <th>6837</th>\n",
              "      <td>Zimbabwe</td>\n",
              "      <td>ZWE</td>\n",
              "      <td>2017</td>\n",
              "      <td>2.752663</td>\n",
              "      <td>2.768516</td>\n",
              "      <td>35.273065</td>\n",
              "      <td>461.892531</td>\n",
              "      <td>1333.762807</td>\n",
              "      <td>80.769870</td>\n",
              "      <td>181.835774</td>\n",
              "    </tr>\n",
              "    <tr>\n",
              "      <th>6838</th>\n",
              "      <td>Zimbabwe</td>\n",
              "      <td>ZWE</td>\n",
              "      <td>2018</td>\n",
              "      <td>2.718565</td>\n",
              "      <td>2.797381</td>\n",
              "      <td>35.747494</td>\n",
              "      <td>458.788271</td>\n",
              "      <td>1330.364400</td>\n",
              "      <td>81.484036</td>\n",
              "      <td>181.356873</td>\n",
              "    </tr>\n",
              "    <tr>\n",
              "      <th>6839</th>\n",
              "      <td>Zimbabwe</td>\n",
              "      <td>ZWE</td>\n",
              "      <td>2019</td>\n",
              "      <td>2.711397</td>\n",
              "      <td>2.749125</td>\n",
              "      <td>36.221210</td>\n",
              "      <td>455.847569</td>\n",
              "      <td>1327.744695</td>\n",
              "      <td>82.291345</td>\n",
              "      <td>180.933963</td>\n",
              "    </tr>\n",
              "  </tbody>\n",
              "</table>\n",
              "<p>6300 rows × 10 columns</p>\n",
              "</div>"
            ],
            "text/plain": [
              "          Country Code  Year    DNS < 5  5 < DNS < 14  15 < DNS < 49   \n",
              "0     Afghanistan  AFG  1990  21.333432      9.372839      43.620659  \\\n",
              "1     Afghanistan  AFG  1991  18.701225      9.456989      40.530804   \n",
              "2     Afghanistan  AFG  1992  16.801217      9.737245      37.166581   \n",
              "3     Afghanistan  AFG  1993  16.527773      9.832934      35.723897   \n",
              "4     Afghanistan  AFG  1994  16.527686      9.564733      35.458716   \n",
              "...           ...  ...   ...        ...           ...            ...   \n",
              "6835     Zimbabwe  ZWE  2015   2.642187      2.495452      34.026731   \n",
              "6836     Zimbabwe  ZWE  2016   2.753739      2.683036      34.769286   \n",
              "6837     Zimbabwe  ZWE  2017   2.752663      2.768516      35.273065   \n",
              "6838     Zimbabwe  ZWE  2018   2.718565      2.797381      35.747494   \n",
              "6839     Zimbabwe  ZWE  2019   2.711397      2.749125      36.221210   \n",
              "\n",
              "      50 < DNS < 69     DNS > 70  DNS all ages  DNS Padronizado  \n",
              "0        407.233106  1021.494249    101.409895       159.964864  \n",
              "1        404.506587  1013.760277     93.714269       158.455892  \n",
              "2        402.687908  1007.834265     84.011048       157.390960  \n",
              "3        404.419442  1006.565188     79.038807       157.574448  \n",
              "4        407.332265  1006.363704     77.173172       158.031726  \n",
              "...             ...          ...           ...              ...  \n",
              "6835     465.147739  1340.306429     79.281072       182.596478  \n",
              "6836     464.267622  1336.598159     80.128518       182.424420  \n",
              "6837     461.892531  1333.762807     80.769870       181.835774  \n",
              "6838     458.788271  1330.364400     81.484036       181.356873  \n",
              "6839     455.847569  1327.744695     82.291345       180.933963  \n",
              "\n",
              "[6300 rows x 10 columns]"
            ]
          },
          "execution_count": 49,
          "metadata": {},
          "output_type": "execute_result"
        }
      ],
      "source": [
        "nova_ordem = ['Country', 'Code', 'Year', 'DNS < 5', '5 < DNS < 14', '15 < DNS < 49','50 < DNS < 69', 'DNS > 70', 'DNS all ages',  'DNS Padronizado']\n",
        "\n",
        "# Selecionar as colunas na ordem desejada\n",
        "df = df[nova_ordem]\n",
        "df"
      ]
    },
    {
      "cell_type": "markdown",
      "metadata": {
        "id": "NtZLTX8Qi3Df"
      },
      "source": [
        "*Alinhamento das colunas*\n",
        "\n"
      ]
    },
    {
      "cell_type": "code",
      "execution_count": null,
      "metadata": {
        "id": "FL0PbQMGtw69",
        "outputId": "8c2bc29d-67c0-4d61-aa35-55794bd93dbe"
      },
      "outputs": [
        {
          "data": {
            "text/html": [
              "<style type=\"text/css\">\n",
              "#T_8adeb th {\n",
              "  text-align: center;\n",
              "}\n",
              "#T_8adeb td {\n",
              "  text-align: center;\n",
              "}\n",
              "</style>\n",
              "<table id=\"T_8adeb\">\n",
              "  <thead>\n",
              "    <tr>\n",
              "      <th class=\"blank level0\" >&nbsp;</th>\n",
              "      <th id=\"T_8adeb_level0_col0\" class=\"col_heading level0 col0\" >Country</th>\n",
              "      <th id=\"T_8adeb_level0_col1\" class=\"col_heading level0 col1\" >Code</th>\n",
              "      <th id=\"T_8adeb_level0_col2\" class=\"col_heading level0 col2\" >Year</th>\n",
              "      <th id=\"T_8adeb_level0_col3\" class=\"col_heading level0 col3\" >DNS < 5</th>\n",
              "      <th id=\"T_8adeb_level0_col4\" class=\"col_heading level0 col4\" >5 < DNS < 14</th>\n",
              "      <th id=\"T_8adeb_level0_col5\" class=\"col_heading level0 col5\" >15 < DNS < 49</th>\n",
              "      <th id=\"T_8adeb_level0_col6\" class=\"col_heading level0 col6\" >50 < DNS < 69</th>\n",
              "      <th id=\"T_8adeb_level0_col7\" class=\"col_heading level0 col7\" >DNS > 70</th>\n",
              "      <th id=\"T_8adeb_level0_col8\" class=\"col_heading level0 col8\" >DNS all ages</th>\n",
              "      <th id=\"T_8adeb_level0_col9\" class=\"col_heading level0 col9\" >DNS Padronizado</th>\n",
              "    </tr>\n",
              "  </thead>\n",
              "  <tbody>\n",
              "    <tr>\n",
              "      <th id=\"T_8adeb_level0_row0\" class=\"row_heading level0 row0\" >0</th>\n",
              "      <td id=\"T_8adeb_row0_col0\" class=\"data row0 col0\" >Afghanistan</td>\n",
              "      <td id=\"T_8adeb_row0_col1\" class=\"data row0 col1\" >AFG</td>\n",
              "      <td id=\"T_8adeb_row0_col2\" class=\"data row0 col2\" >1990</td>\n",
              "      <td id=\"T_8adeb_row0_col3\" class=\"data row0 col3\" >21.333432</td>\n",
              "      <td id=\"T_8adeb_row0_col4\" class=\"data row0 col4\" >9.372839</td>\n",
              "      <td id=\"T_8adeb_row0_col5\" class=\"data row0 col5\" >43.620659</td>\n",
              "      <td id=\"T_8adeb_row0_col6\" class=\"data row0 col6\" >407.233106</td>\n",
              "      <td id=\"T_8adeb_row0_col7\" class=\"data row0 col7\" >1021.494249</td>\n",
              "      <td id=\"T_8adeb_row0_col8\" class=\"data row0 col8\" >101.409895</td>\n",
              "      <td id=\"T_8adeb_row0_col9\" class=\"data row0 col9\" >159.964864</td>\n",
              "    </tr>\n",
              "    <tr>\n",
              "      <th id=\"T_8adeb_level0_row1\" class=\"row_heading level0 row1\" >1</th>\n",
              "      <td id=\"T_8adeb_row1_col0\" class=\"data row1 col0\" >Afghanistan</td>\n",
              "      <td id=\"T_8adeb_row1_col1\" class=\"data row1 col1\" >AFG</td>\n",
              "      <td id=\"T_8adeb_row1_col2\" class=\"data row1 col2\" >1991</td>\n",
              "      <td id=\"T_8adeb_row1_col3\" class=\"data row1 col3\" >18.701225</td>\n",
              "      <td id=\"T_8adeb_row1_col4\" class=\"data row1 col4\" >9.456989</td>\n",
              "      <td id=\"T_8adeb_row1_col5\" class=\"data row1 col5\" >40.530804</td>\n",
              "      <td id=\"T_8adeb_row1_col6\" class=\"data row1 col6\" >404.506587</td>\n",
              "      <td id=\"T_8adeb_row1_col7\" class=\"data row1 col7\" >1013.760277</td>\n",
              "      <td id=\"T_8adeb_row1_col8\" class=\"data row1 col8\" >93.714269</td>\n",
              "      <td id=\"T_8adeb_row1_col9\" class=\"data row1 col9\" >158.455892</td>\n",
              "    </tr>\n",
              "    <tr>\n",
              "      <th id=\"T_8adeb_level0_row2\" class=\"row_heading level0 row2\" >2</th>\n",
              "      <td id=\"T_8adeb_row2_col0\" class=\"data row2 col0\" >Afghanistan</td>\n",
              "      <td id=\"T_8adeb_row2_col1\" class=\"data row2 col1\" >AFG</td>\n",
              "      <td id=\"T_8adeb_row2_col2\" class=\"data row2 col2\" >1992</td>\n",
              "      <td id=\"T_8adeb_row2_col3\" class=\"data row2 col3\" >16.801217</td>\n",
              "      <td id=\"T_8adeb_row2_col4\" class=\"data row2 col4\" >9.737245</td>\n",
              "      <td id=\"T_8adeb_row2_col5\" class=\"data row2 col5\" >37.166581</td>\n",
              "      <td id=\"T_8adeb_row2_col6\" class=\"data row2 col6\" >402.687908</td>\n",
              "      <td id=\"T_8adeb_row2_col7\" class=\"data row2 col7\" >1007.834265</td>\n",
              "      <td id=\"T_8adeb_row2_col8\" class=\"data row2 col8\" >84.011048</td>\n",
              "      <td id=\"T_8adeb_row2_col9\" class=\"data row2 col9\" >157.390960</td>\n",
              "    </tr>\n",
              "    <tr>\n",
              "      <th id=\"T_8adeb_level0_row3\" class=\"row_heading level0 row3\" >3</th>\n",
              "      <td id=\"T_8adeb_row3_col0\" class=\"data row3 col0\" >Afghanistan</td>\n",
              "      <td id=\"T_8adeb_row3_col1\" class=\"data row3 col1\" >AFG</td>\n",
              "      <td id=\"T_8adeb_row3_col2\" class=\"data row3 col2\" >1993</td>\n",
              "      <td id=\"T_8adeb_row3_col3\" class=\"data row3 col3\" >16.527773</td>\n",
              "      <td id=\"T_8adeb_row3_col4\" class=\"data row3 col4\" >9.832934</td>\n",
              "      <td id=\"T_8adeb_row3_col5\" class=\"data row3 col5\" >35.723897</td>\n",
              "      <td id=\"T_8adeb_row3_col6\" class=\"data row3 col6\" >404.419442</td>\n",
              "      <td id=\"T_8adeb_row3_col7\" class=\"data row3 col7\" >1006.565188</td>\n",
              "      <td id=\"T_8adeb_row3_col8\" class=\"data row3 col8\" >79.038807</td>\n",
              "      <td id=\"T_8adeb_row3_col9\" class=\"data row3 col9\" >157.574448</td>\n",
              "    </tr>\n",
              "    <tr>\n",
              "      <th id=\"T_8adeb_level0_row4\" class=\"row_heading level0 row4\" >4</th>\n",
              "      <td id=\"T_8adeb_row4_col0\" class=\"data row4 col0\" >Afghanistan</td>\n",
              "      <td id=\"T_8adeb_row4_col1\" class=\"data row4 col1\" >AFG</td>\n",
              "      <td id=\"T_8adeb_row4_col2\" class=\"data row4 col2\" >1994</td>\n",
              "      <td id=\"T_8adeb_row4_col3\" class=\"data row4 col3\" >16.527686</td>\n",
              "      <td id=\"T_8adeb_row4_col4\" class=\"data row4 col4\" >9.564733</td>\n",
              "      <td id=\"T_8adeb_row4_col5\" class=\"data row4 col5\" >35.458716</td>\n",
              "      <td id=\"T_8adeb_row4_col6\" class=\"data row4 col6\" >407.332265</td>\n",
              "      <td id=\"T_8adeb_row4_col7\" class=\"data row4 col7\" >1006.363704</td>\n",
              "      <td id=\"T_8adeb_row4_col8\" class=\"data row4 col8\" >77.173172</td>\n",
              "      <td id=\"T_8adeb_row4_col9\" class=\"data row4 col9\" >158.031726</td>\n",
              "    </tr>\n",
              "  </tbody>\n",
              "</table>\n"
            ],
            "text/plain": [
              "<pandas.io.formats.style.Styler at 0x230c4ac03d0>"
            ]
          },
          "execution_count": 50,
          "metadata": {},
          "output_type": "execute_result"
        }
      ],
      "source": [
        "df.head().style.set_table_styles([dict(selector='th', props=[('text-align', 'center')]),\n",
        "                                    dict(selector='td', props=[('text-align', 'center')])])"
      ]
    },
    {
      "cell_type": "code",
      "execution_count": null,
      "metadata": {
        "id": "B1NfpCi7uRzN"
      },
      "outputs": [],
      "source": [
        "#Verificando a existência de valores NaN  e se isso vai interferir\n",
        "df.info()"
      ]
    },
    {
      "cell_type": "markdown",
      "metadata": {
        "id": "J6Q2H7rqhyeS"
      },
      "source": [
        "Não há valores NaN nas colunas DNS. Há apenas na coluna Code"
      ]
    },
    {
      "cell_type": "markdown",
      "metadata": {
        "id": "AY8yBHn6jZCW"
      },
      "source": [
        "#### 2.3 Medidas de Centralidade"
      ]
    },
    {
      "cell_type": "markdown",
      "source": [
        "##### Medias"
      ],
      "metadata": {
        "id": "aZqmDGpsszfc"
      }
    },
    {
      "cell_type": "code",
      "source": [
        "#medias das taxas de mortalidade de acordo com o país e o grupo etário\n",
        "\n",
        "colunas = df.columns[3:]\n",
        "\n",
        "means = {}\n",
        "\n",
        "for coluna in colunas:\n",
        "    means[coluna] = df.groupby('Country')[coluna].mean().sort_values()\n",
        "\n",
        "    # Exibir as medias calculadas para cada coluna\n",
        "for coluna, medias in means.items():\n",
        "    print(f\"Media da coluna '{coluna}':\")\n",
        "    print(medias)\n",
        "    print()"
      ],
      "metadata": {
        "id": "LyJyLonxs3zU"
      },
      "execution_count": null,
      "outputs": []
    },
    {
      "cell_type": "markdown",
      "metadata": {
        "id": "C2IODFlahiML"
      },
      "source": [
        "### 3. Exploração através de gráficos"
      ]
    },
    {
      "cell_type": "markdown",
      "metadata": {
        "id": "m5pZXoXbua3w"
      },
      "source": [
        "#### Boxplots"
      ]
    },
    {
      "cell_type": "markdown",
      "source": [
        "#Dataset 2"
      ],
      "metadata": {
        "id": "nt2Q07Bk3RcS"
      }
    },
    {
      "cell_type": "markdown",
      "metadata": {
        "id": "8NZi_4ozkJWF"
      },
      "source": [
        "#Respondendo às Perguntas"
      ]
    },
    {
      "cell_type": "markdown",
      "metadata": {
        "id": "l-b5M5cuwTIx"
      },
      "source": [
        "\n",
        "###Qual a faixa etária que mais morre nesses países? \n"
      ]
    },
    {
      "cell_type": "markdown",
      "source": [
        "###Qual o país mais constante?\n",
        "\n"
      ],
      "metadata": {
        "id": "nXQTxQ0z64Gt"
      }
    },
    {
      "cell_type": "markdown",
      "source": [
        "###Qual o país com maior queda de casos nos últimos 5 anos?\n"
      ],
      "metadata": {
        "id": "IHmyzI5V65lF"
      }
    },
    {
      "cell_type": "markdown",
      "source": [
        "###Em qual ano mais países tiveram altas, e qual ano teve mais baixas, em suas taxas?\n",
        "\n"
      ],
      "metadata": {
        "id": "r0byuDoj67Ss"
      }
    },
    {
      "cell_type": "code",
      "source": [
        "# ordenando a as médias da coluna DNS all ages de forma decrescente\n",
        "coluna_dns = 'DNS all ages'\n",
        "medias_ordenadas = means[coluna_dns].sort_values(ascending=False)\n",
        "\n",
        "print(f\"Coluna '{medias_ordenadas}' ordenada em ordem decrescente:\")"
      ],
      "metadata": {
        "id": "HXYt_7H3r0jj"
      },
      "execution_count": null,
      "outputs": []
    },
    {
      "cell_type": "code",
      "source": [
        "# os cinco países com maiores médias \n",
        "top5_medias = medias_ordenadas.head(5)\n",
        "top5_medias"
      ],
      "metadata": {
        "id": "XWDDSWzNtN0D"
      },
      "execution_count": null,
      "outputs": []
    },
    {
      "cell_type": "code",
      "source": [
        "sns.set_theme(style=\"whitegrid\")\n",
        "df_top5 = df.loc[(df[\"Country\"].isin(top5_medias.index))]\n",
        "sns.lineplot(data=df_top5, x=\"Year\", y=\"DNS all ages\", linewidth=2.5, palette=\"tab10\", hue=\"Country\")"
      ],
      "metadata": {
        "id": "JMYKqq7ltQqj"
      },
      "execution_count": null,
      "outputs": []
    },
    {
      "cell_type": "markdown",
      "source": [
        "###No ano de mais baixas, qual o país com o maior, e qual com o país menor, investimento público em saúde?\n"
      ],
      "metadata": {
        "id": "kZn4xK2W68p0"
      }
    },
    {
      "cell_type": "markdown",
      "source": [
        "https://seaborn.pydata.org/examples/wide_data_lineplot.html"
      ],
      "metadata": {
        "id": "EOVDwCzVAYGd"
      }
    },
    {
      "cell_type": "markdown",
      "metadata": {
        "id": "_-Kg-FG9ua3_"
      },
      "source": [
        "### Etapa de Clusterização"
      ]
    },
    {
      "cell_type": "code",
      "execution_count": null,
      "metadata": {
        "id": "E2T03Z99xmEC"
      },
      "outputs": [],
      "source": [
        "from sklearn.cluster import KMeans"
      ]
    },
    {
      "cell_type": "code",
      "execution_count": null,
      "metadata": {
        "colab": {
          "base_uri": "https://localhost:8080/",
          "height": 502
        },
        "id": "c_cxIb5Zxcl6",
        "outputId": "2e0e5184-b943-4f91-ce04-627eb2feb04f"
      },
      "outputs": [
        {
          "output_type": "error",
          "ename": "KeyError",
          "evalue": "ignored",
          "traceback": [
            "\u001b[0;31m---------------------------------------------------------------------------\u001b[0m",
            "\u001b[0;31mKeyError\u001b[0m                                  Traceback (most recent call last)",
            "\u001b[0;32m/usr/local/lib/python3.10/dist-packages/pandas/core/indexes/base.py\u001b[0m in \u001b[0;36mget_loc\u001b[0;34m(self, key, method, tolerance)\u001b[0m\n\u001b[1;32m   3801\u001b[0m             \u001b[0;32mtry\u001b[0m\u001b[0;34m:\u001b[0m\u001b[0;34m\u001b[0m\u001b[0;34m\u001b[0m\u001b[0m\n\u001b[0;32m-> 3802\u001b[0;31m                 \u001b[0;32mreturn\u001b[0m \u001b[0mself\u001b[0m\u001b[0;34m.\u001b[0m\u001b[0m_engine\u001b[0m\u001b[0;34m.\u001b[0m\u001b[0mget_loc\u001b[0m\u001b[0;34m(\u001b[0m\u001b[0mcasted_key\u001b[0m\u001b[0;34m)\u001b[0m\u001b[0;34m\u001b[0m\u001b[0;34m\u001b[0m\u001b[0m\n\u001b[0m\u001b[1;32m   3803\u001b[0m             \u001b[0;32mexcept\u001b[0m \u001b[0mKeyError\u001b[0m \u001b[0;32mas\u001b[0m \u001b[0merr\u001b[0m\u001b[0;34m:\u001b[0m\u001b[0;34m\u001b[0m\u001b[0;34m\u001b[0m\u001b[0m\n",
            "\u001b[0;32m/usr/local/lib/python3.10/dist-packages/pandas/_libs/index.pyx\u001b[0m in \u001b[0;36mpandas._libs.index.IndexEngine.get_loc\u001b[0;34m()\u001b[0m\n",
            "\u001b[0;32m/usr/local/lib/python3.10/dist-packages/pandas/_libs/index.pyx\u001b[0m in \u001b[0;36mpandas._libs.index.IndexEngine.get_loc\u001b[0;34m()\u001b[0m\n",
            "\u001b[0;32mpandas/_libs/hashtable_class_helper.pxi\u001b[0m in \u001b[0;36mpandas._libs.hashtable.PyObjectHashTable.get_item\u001b[0;34m()\u001b[0m\n",
            "\u001b[0;32mpandas/_libs/hashtable_class_helper.pxi\u001b[0m in \u001b[0;36mpandas._libs.hashtable.PyObjectHashTable.get_item\u001b[0;34m()\u001b[0m\n",
            "\u001b[0;31mKeyError\u001b[0m: ('DNS > 70', 'Years')",
            "\nThe above exception was the direct cause of the following exception:\n",
            "\u001b[0;31mKeyError\u001b[0m                                  Traceback (most recent call last)",
            "\u001b[0;32m<ipython-input-22-c80409430271>\u001b[0m in \u001b[0;36m<cell line: 1>\u001b[0;34m()\u001b[0m\n\u001b[0;32m----> 1\u001b[0;31m \u001b[0mkbrics\u001b[0m \u001b[0;34m=\u001b[0m \u001b[0mdf\u001b[0m\u001b[0;34m[\u001b[0m\u001b[0;34m'DNS > 70'\u001b[0m\u001b[0;34m,\u001b[0m \u001b[0;34m'Years'\u001b[0m\u001b[0;34m]\u001b[0m\u001b[0;34m\u001b[0m\u001b[0;34m\u001b[0m\u001b[0m\n\u001b[0m\u001b[1;32m      2\u001b[0m \u001b[0;34m\u001b[0m\u001b[0m\n\u001b[1;32m      3\u001b[0m \u001b[0;31m# Definir o número de clusters\u001b[0m\u001b[0;34m\u001b[0m\u001b[0;34m\u001b[0m\u001b[0m\n\u001b[1;32m      4\u001b[0m \u001b[0mk\u001b[0m \u001b[0;34m=\u001b[0m \u001b[0;36m3\u001b[0m\u001b[0;34m\u001b[0m\u001b[0;34m\u001b[0m\u001b[0m\n\u001b[1;32m      5\u001b[0m \u001b[0;34m\u001b[0m\u001b[0m\n",
            "\u001b[0;32m/usr/local/lib/python3.10/dist-packages/pandas/core/frame.py\u001b[0m in \u001b[0;36m__getitem__\u001b[0;34m(self, key)\u001b[0m\n\u001b[1;32m   3805\u001b[0m             \u001b[0;32mif\u001b[0m \u001b[0mself\u001b[0m\u001b[0;34m.\u001b[0m\u001b[0mcolumns\u001b[0m\u001b[0;34m.\u001b[0m\u001b[0mnlevels\u001b[0m \u001b[0;34m>\u001b[0m \u001b[0;36m1\u001b[0m\u001b[0;34m:\u001b[0m\u001b[0;34m\u001b[0m\u001b[0;34m\u001b[0m\u001b[0m\n\u001b[1;32m   3806\u001b[0m                 \u001b[0;32mreturn\u001b[0m \u001b[0mself\u001b[0m\u001b[0;34m.\u001b[0m\u001b[0m_getitem_multilevel\u001b[0m\u001b[0;34m(\u001b[0m\u001b[0mkey\u001b[0m\u001b[0;34m)\u001b[0m\u001b[0;34m\u001b[0m\u001b[0;34m\u001b[0m\u001b[0m\n\u001b[0;32m-> 3807\u001b[0;31m             \u001b[0mindexer\u001b[0m \u001b[0;34m=\u001b[0m \u001b[0mself\u001b[0m\u001b[0;34m.\u001b[0m\u001b[0mcolumns\u001b[0m\u001b[0;34m.\u001b[0m\u001b[0mget_loc\u001b[0m\u001b[0;34m(\u001b[0m\u001b[0mkey\u001b[0m\u001b[0;34m)\u001b[0m\u001b[0;34m\u001b[0m\u001b[0;34m\u001b[0m\u001b[0m\n\u001b[0m\u001b[1;32m   3808\u001b[0m             \u001b[0;32mif\u001b[0m \u001b[0mis_integer\u001b[0m\u001b[0;34m(\u001b[0m\u001b[0mindexer\u001b[0m\u001b[0;34m)\u001b[0m\u001b[0;34m:\u001b[0m\u001b[0;34m\u001b[0m\u001b[0;34m\u001b[0m\u001b[0m\n\u001b[1;32m   3809\u001b[0m                 \u001b[0mindexer\u001b[0m \u001b[0;34m=\u001b[0m \u001b[0;34m[\u001b[0m\u001b[0mindexer\u001b[0m\u001b[0;34m]\u001b[0m\u001b[0;34m\u001b[0m\u001b[0;34m\u001b[0m\u001b[0m\n",
            "\u001b[0;32m/usr/local/lib/python3.10/dist-packages/pandas/core/indexes/base.py\u001b[0m in \u001b[0;36mget_loc\u001b[0;34m(self, key, method, tolerance)\u001b[0m\n\u001b[1;32m   3802\u001b[0m                 \u001b[0;32mreturn\u001b[0m \u001b[0mself\u001b[0m\u001b[0;34m.\u001b[0m\u001b[0m_engine\u001b[0m\u001b[0;34m.\u001b[0m\u001b[0mget_loc\u001b[0m\u001b[0;34m(\u001b[0m\u001b[0mcasted_key\u001b[0m\u001b[0;34m)\u001b[0m\u001b[0;34m\u001b[0m\u001b[0;34m\u001b[0m\u001b[0m\n\u001b[1;32m   3803\u001b[0m             \u001b[0;32mexcept\u001b[0m \u001b[0mKeyError\u001b[0m \u001b[0;32mas\u001b[0m \u001b[0merr\u001b[0m\u001b[0;34m:\u001b[0m\u001b[0;34m\u001b[0m\u001b[0;34m\u001b[0m\u001b[0m\n\u001b[0;32m-> 3804\u001b[0;31m                 \u001b[0;32mraise\u001b[0m \u001b[0mKeyError\u001b[0m\u001b[0;34m(\u001b[0m\u001b[0mkey\u001b[0m\u001b[0;34m)\u001b[0m \u001b[0;32mfrom\u001b[0m \u001b[0merr\u001b[0m\u001b[0;34m\u001b[0m\u001b[0;34m\u001b[0m\u001b[0m\n\u001b[0m\u001b[1;32m   3805\u001b[0m             \u001b[0;32mexcept\u001b[0m \u001b[0mTypeError\u001b[0m\u001b[0;34m:\u001b[0m\u001b[0;34m\u001b[0m\u001b[0;34m\u001b[0m\u001b[0m\n\u001b[1;32m   3806\u001b[0m                 \u001b[0;31m# If we have a listlike key, _check_indexing_error will raise\u001b[0m\u001b[0;34m\u001b[0m\u001b[0;34m\u001b[0m\u001b[0m\n",
            "\u001b[0;31mKeyError\u001b[0m: ('DNS > 70', 'Years')"
          ]
        }
      ],
      "source": [
        "'''kbrics = df['DNS > 70', 'Years']\n",
        "\n",
        "# Definir o número de clusters\n",
        "k = 3\n",
        "\n",
        "# Executar o algoritmo K-Means\n",
        "kmeans = KMeans(n_clusters=k)\n",
        "kmeans.fit(kbrics)\n",
        "centroides = kmeans.cluster_centers_\n",
        "\n",
        "# Adicionar as colunas de cluster ao DataFrame original\n",
        "df['Cluster'] = kmeans.labels_\n",
        "\n",
        "# Visualizar os resultados do cluster\n",
        "sns.scatterplot(data=df, x='DNS > 70',y='Years', hue='Cluster', palette='bright')\n",
        "\n",
        "# Plotar os centroides\n",
        "plt.scatter(centroides[:, 0], centroides[:, 1], marker='X', color='black', s=100)\n",
        "\n",
        "# Configurações adicionais do gráfico\n",
        "plt.xlabel('DNS > 70')\n",
        "plt.ylabel('Years')\n",
        "plt.title('1.1 Gráfico de dispersão com centroides')\n",
        "\n",
        "# Exibir o gráfico\n",
        "plt.show()'''"
      ]
    },
    {
      "cell_type": "markdown",
      "metadata": {
        "id": "JUWUXGGAua3_"
      },
      "source": []
    },
    {
      "cell_type": "markdown",
      "metadata": {
        "id": "NfKPpn9_kMtt"
      },
      "source": [
        "#Conclusões"
      ]
    },
    {
      "cell_type": "markdown",
      "metadata": {
        "id": "ODt1BGVjua3_"
      },
      "source": [
        "#### Ideias"
      ]
    },
    {
      "cell_type": "code",
      "execution_count": null,
      "metadata": {
        "id": "JroZeaFmua4A"
      },
      "outputs": [],
      "source": [
        "\n",
        "''' Quero plotar mapa\n",
        "# Dados\n",
        "data = {\n",
        "    'Country': ['Brazil', 'Argentina', 'Chile'],\n",
        "    'Value': [10, 20, 30]\n",
        "}\n",
        "\n",
        "# GeoJSON com as geometrias dos países\n",
        "geojson = 'caminho/para/arquivo.geojson'\n",
        "\n",
        "# Plotagem do mapa de cloropleta\n",
        "fig = px.choropleth_mapbox(data_frame=data, geojson=geojson, locations='Country', color='Value',\n",
        "                           mapbox_style='carto-positron', center={'lat': 0, 'lon': 0}, zoom=2)\n",
        "\n",
        "# Exibição do mapa\n",
        "fig.show()\n",
        "'''"
      ]
    }
  ],
  "metadata": {
    "colab": {
      "provenance": [],
      "collapsed_sections": [
        "NfKPpn9_kMtt"
      ]
    },
    "kernelspec": {
      "display_name": "Python 3 (ipykernel)",
      "language": "python",
      "name": "python3"
    },
    "language_info": {
      "codemirror_mode": {
        "name": "ipython",
        "version": 3
      },
      "file_extension": ".py",
      "mimetype": "text/x-python",
      "name": "python",
      "nbconvert_exporter": "python",
      "pygments_lexer": "ipython3",
      "version": "3.9.7"
    }
  },
  "nbformat": 4,
  "nbformat_minor": 0
}