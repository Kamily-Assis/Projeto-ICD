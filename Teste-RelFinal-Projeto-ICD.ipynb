{
 "cells": [
  {
   "cell_type": "markdown",
   "metadata": {
    "id": "iLeZJzltk6eN"
   },
   "source": [
    "# **Introdução**"
   ]
  },
  {
   "cell_type": "markdown",
   "metadata": {
    "id": "bGGZ5ELjP4ku"
   },
   "source": [
    "# 1. Importando Bibliotecas"
   ]
  },
  {
   "cell_type": "code",
   "execution_count": 3,
   "metadata": {
    "id": "jjW6Re1CPh4v"
   },
   "outputs": [],
   "source": [
    "import pandas as pd\n",
    "import numpy as np\n",
    "import seaborn as sns\n",
    "import matplotlib.pyplot as plt\n",
    "import sklearn as sk"
   ]
  },
  {
   "cell_type": "markdown",
   "metadata": {
    "id": "uG2xfiIaQqM4"
   },
   "source": [
    "# 2. Leitura e Pré-processamento de Dados"
   ]
  },
  {
   "cell_type": "markdown",
   "metadata": {
    "id": "bgK4WnTKjqNv"
   },
   "source": [
    "### 2.1 Dataframe recebe CSV"
   ]
  },
  {
   "cell_type": "code",
   "execution_count": 38,
   "metadata": {
    "id": "Gip3CXGYQEus"
   },
   "outputs": [],
   "source": [
    "df = pd.read_csv(\"datasets/cancer-death-rates-by-age.csv\")"
   ]
  },
  {
   "cell_type": "code",
   "execution_count": 39,
   "metadata": {
    "id": "4uTiht4jQjFF",
    "scrolled": true
   },
   "outputs": [
    {
     "data": {
      "text/html": [
       "<div>\n",
       "<style scoped>\n",
       "    .dataframe tbody tr th:only-of-type {\n",
       "        vertical-align: middle;\n",
       "    }\n",
       "\n",
       "    .dataframe tbody tr th {\n",
       "        vertical-align: top;\n",
       "    }\n",
       "\n",
       "    .dataframe thead th {\n",
       "        text-align: right;\n",
       "    }\n",
       "</style>\n",
       "<table border=\"1\" class=\"dataframe\">\n",
       "  <thead>\n",
       "    <tr style=\"text-align: right;\">\n",
       "      <th></th>\n",
       "      <th>Entity</th>\n",
       "      <th>Code</th>\n",
       "      <th>Year</th>\n",
       "      <th>Deaths - Neoplasms - Sex: Both - Age: Under 5 (Rate)</th>\n",
       "      <th>Deaths - Neoplasms - Sex: Both - Age: Age-standardized (Rate)</th>\n",
       "      <th>Deaths - Neoplasms - Sex: Both - Age: All Ages (Rate)</th>\n",
       "      <th>Deaths - Neoplasms - Sex: Both - Age: 70+ years (Rate)</th>\n",
       "      <th>Deaths - Neoplasms - Sex: Both - Age: 5-14 years (Rate)</th>\n",
       "      <th>Deaths - Neoplasms - Sex: Both - Age: 50-69 years (Rate)</th>\n",
       "      <th>Deaths - Neoplasms - Sex: Both - Age: 15-49 years (Rate)</th>\n",
       "    </tr>\n",
       "  </thead>\n",
       "  <tbody>\n",
       "    <tr>\n",
       "      <th>0</th>\n",
       "      <td>Afghanistan</td>\n",
       "      <td>AFG</td>\n",
       "      <td>1990</td>\n",
       "      <td>21.333432</td>\n",
       "      <td>159.964864</td>\n",
       "      <td>101.409895</td>\n",
       "      <td>1021.494249</td>\n",
       "      <td>9.372839</td>\n",
       "      <td>407.233106</td>\n",
       "      <td>43.620659</td>\n",
       "    </tr>\n",
       "    <tr>\n",
       "      <th>1</th>\n",
       "      <td>Afghanistan</td>\n",
       "      <td>AFG</td>\n",
       "      <td>1991</td>\n",
       "      <td>18.701225</td>\n",
       "      <td>158.455892</td>\n",
       "      <td>93.714269</td>\n",
       "      <td>1013.760277</td>\n",
       "      <td>9.456989</td>\n",
       "      <td>404.506587</td>\n",
       "      <td>40.530804</td>\n",
       "    </tr>\n",
       "    <tr>\n",
       "      <th>2</th>\n",
       "      <td>Afghanistan</td>\n",
       "      <td>AFG</td>\n",
       "      <td>1992</td>\n",
       "      <td>16.801217</td>\n",
       "      <td>157.390960</td>\n",
       "      <td>84.011048</td>\n",
       "      <td>1007.834265</td>\n",
       "      <td>9.737245</td>\n",
       "      <td>402.687908</td>\n",
       "      <td>37.166581</td>\n",
       "    </tr>\n",
       "    <tr>\n",
       "      <th>3</th>\n",
       "      <td>Afghanistan</td>\n",
       "      <td>AFG</td>\n",
       "      <td>1993</td>\n",
       "      <td>16.527773</td>\n",
       "      <td>157.574448</td>\n",
       "      <td>79.038807</td>\n",
       "      <td>1006.565188</td>\n",
       "      <td>9.832934</td>\n",
       "      <td>404.419442</td>\n",
       "      <td>35.723897</td>\n",
       "    </tr>\n",
       "    <tr>\n",
       "      <th>4</th>\n",
       "      <td>Afghanistan</td>\n",
       "      <td>AFG</td>\n",
       "      <td>1994</td>\n",
       "      <td>16.527686</td>\n",
       "      <td>158.031726</td>\n",
       "      <td>77.173172</td>\n",
       "      <td>1006.363704</td>\n",
       "      <td>9.564733</td>\n",
       "      <td>407.332265</td>\n",
       "      <td>35.458716</td>\n",
       "    </tr>\n",
       "    <tr>\n",
       "      <th>...</th>\n",
       "      <td>...</td>\n",
       "      <td>...</td>\n",
       "      <td>...</td>\n",
       "      <td>...</td>\n",
       "      <td>...</td>\n",
       "      <td>...</td>\n",
       "      <td>...</td>\n",
       "      <td>...</td>\n",
       "      <td>...</td>\n",
       "      <td>...</td>\n",
       "    </tr>\n",
       "    <tr>\n",
       "      <th>6835</th>\n",
       "      <td>Zimbabwe</td>\n",
       "      <td>ZWE</td>\n",
       "      <td>2015</td>\n",
       "      <td>2.642187</td>\n",
       "      <td>182.596478</td>\n",
       "      <td>79.281072</td>\n",
       "      <td>1340.306429</td>\n",
       "      <td>2.495452</td>\n",
       "      <td>465.147739</td>\n",
       "      <td>34.026731</td>\n",
       "    </tr>\n",
       "    <tr>\n",
       "      <th>6836</th>\n",
       "      <td>Zimbabwe</td>\n",
       "      <td>ZWE</td>\n",
       "      <td>2016</td>\n",
       "      <td>2.753739</td>\n",
       "      <td>182.424420</td>\n",
       "      <td>80.128518</td>\n",
       "      <td>1336.598159</td>\n",
       "      <td>2.683036</td>\n",
       "      <td>464.267622</td>\n",
       "      <td>34.769286</td>\n",
       "    </tr>\n",
       "    <tr>\n",
       "      <th>6837</th>\n",
       "      <td>Zimbabwe</td>\n",
       "      <td>ZWE</td>\n",
       "      <td>2017</td>\n",
       "      <td>2.752663</td>\n",
       "      <td>181.835774</td>\n",
       "      <td>80.769870</td>\n",
       "      <td>1333.762807</td>\n",
       "      <td>2.768516</td>\n",
       "      <td>461.892531</td>\n",
       "      <td>35.273065</td>\n",
       "    </tr>\n",
       "    <tr>\n",
       "      <th>6838</th>\n",
       "      <td>Zimbabwe</td>\n",
       "      <td>ZWE</td>\n",
       "      <td>2018</td>\n",
       "      <td>2.718565</td>\n",
       "      <td>181.356873</td>\n",
       "      <td>81.484036</td>\n",
       "      <td>1330.364400</td>\n",
       "      <td>2.797381</td>\n",
       "      <td>458.788271</td>\n",
       "      <td>35.747494</td>\n",
       "    </tr>\n",
       "    <tr>\n",
       "      <th>6839</th>\n",
       "      <td>Zimbabwe</td>\n",
       "      <td>ZWE</td>\n",
       "      <td>2019</td>\n",
       "      <td>2.711397</td>\n",
       "      <td>180.933963</td>\n",
       "      <td>82.291345</td>\n",
       "      <td>1327.744695</td>\n",
       "      <td>2.749125</td>\n",
       "      <td>455.847569</td>\n",
       "      <td>36.221210</td>\n",
       "    </tr>\n",
       "  </tbody>\n",
       "</table>\n",
       "<p>6840 rows × 10 columns</p>\n",
       "</div>"
      ],
      "text/plain": [
       "           Entity Code  Year   \n",
       "0     Afghanistan  AFG  1990  \\\n",
       "1     Afghanistan  AFG  1991   \n",
       "2     Afghanistan  AFG  1992   \n",
       "3     Afghanistan  AFG  1993   \n",
       "4     Afghanistan  AFG  1994   \n",
       "...           ...  ...   ...   \n",
       "6835     Zimbabwe  ZWE  2015   \n",
       "6836     Zimbabwe  ZWE  2016   \n",
       "6837     Zimbabwe  ZWE  2017   \n",
       "6838     Zimbabwe  ZWE  2018   \n",
       "6839     Zimbabwe  ZWE  2019   \n",
       "\n",
       "      Deaths - Neoplasms - Sex: Both - Age: Under 5 (Rate)   \n",
       "0                                             21.333432     \\\n",
       "1                                             18.701225      \n",
       "2                                             16.801217      \n",
       "3                                             16.527773      \n",
       "4                                             16.527686      \n",
       "...                                                 ...      \n",
       "6835                                           2.642187      \n",
       "6836                                           2.753739      \n",
       "6837                                           2.752663      \n",
       "6838                                           2.718565      \n",
       "6839                                           2.711397      \n",
       "\n",
       "      Deaths - Neoplasms - Sex: Both - Age: Age-standardized (Rate)   \n",
       "0                                            159.964864              \\\n",
       "1                                            158.455892               \n",
       "2                                            157.390960               \n",
       "3                                            157.574448               \n",
       "4                                            158.031726               \n",
       "...                                                 ...               \n",
       "6835                                         182.596478               \n",
       "6836                                         182.424420               \n",
       "6837                                         181.835774               \n",
       "6838                                         181.356873               \n",
       "6839                                         180.933963               \n",
       "\n",
       "      Deaths - Neoplasms - Sex: Both - Age: All Ages (Rate)   \n",
       "0                                            101.409895      \\\n",
       "1                                             93.714269       \n",
       "2                                             84.011048       \n",
       "3                                             79.038807       \n",
       "4                                             77.173172       \n",
       "...                                                 ...       \n",
       "6835                                          79.281072       \n",
       "6836                                          80.128518       \n",
       "6837                                          80.769870       \n",
       "6838                                          81.484036       \n",
       "6839                                          82.291345       \n",
       "\n",
       "      Deaths - Neoplasms - Sex: Both - Age: 70+ years (Rate)   \n",
       "0                                           1021.494249       \\\n",
       "1                                           1013.760277        \n",
       "2                                           1007.834265        \n",
       "3                                           1006.565188        \n",
       "4                                           1006.363704        \n",
       "...                                                 ...        \n",
       "6835                                        1340.306429        \n",
       "6836                                        1336.598159        \n",
       "6837                                        1333.762807        \n",
       "6838                                        1330.364400        \n",
       "6839                                        1327.744695        \n",
       "\n",
       "      Deaths - Neoplasms - Sex: Both - Age: 5-14 years (Rate)   \n",
       "0                                              9.372839        \\\n",
       "1                                              9.456989         \n",
       "2                                              9.737245         \n",
       "3                                              9.832934         \n",
       "4                                              9.564733         \n",
       "...                                                 ...         \n",
       "6835                                           2.495452         \n",
       "6836                                           2.683036         \n",
       "6837                                           2.768516         \n",
       "6838                                           2.797381         \n",
       "6839                                           2.749125         \n",
       "\n",
       "      Deaths - Neoplasms - Sex: Both - Age: 50-69 years (Rate)   \n",
       "0                                            407.233106         \\\n",
       "1                                            404.506587          \n",
       "2                                            402.687908          \n",
       "3                                            404.419442          \n",
       "4                                            407.332265          \n",
       "...                                                 ...          \n",
       "6835                                         465.147739          \n",
       "6836                                         464.267622          \n",
       "6837                                         461.892531          \n",
       "6838                                         458.788271          \n",
       "6839                                         455.847569          \n",
       "\n",
       "      Deaths - Neoplasms - Sex: Both - Age: 15-49 years (Rate)  \n",
       "0                                             43.620659         \n",
       "1                                             40.530804         \n",
       "2                                             37.166581         \n",
       "3                                             35.723897         \n",
       "4                                             35.458716         \n",
       "...                                                 ...         \n",
       "6835                                          34.026731         \n",
       "6836                                          34.769286         \n",
       "6837                                          35.273065         \n",
       "6838                                          35.747494         \n",
       "6839                                          36.221210         \n",
       "\n",
       "[6840 rows x 10 columns]"
      ]
     },
     "execution_count": 39,
     "metadata": {},
     "output_type": "execute_result"
    }
   ],
   "source": [
    "df"
   ]
  },
  {
   "cell_type": "markdown",
   "metadata": {},
   "source": [
    "### Criando um array com o nome de todas as entidades do Dataframe"
   ]
  },
  {
   "cell_type": "code",
   "execution_count": 40,
   "metadata": {
    "scrolled": true
   },
   "outputs": [
    {
     "data": {
      "text/plain": [
       "array(['Afghanistan', 'African Region (WHO)', 'Albania', 'Algeria',\n",
       "       'American Samoa', 'Andorra', 'Angola', 'Antigua and Barbuda',\n",
       "       'Argentina', 'Armenia', 'Australia', 'Austria', 'Azerbaijan',\n",
       "       'Bahamas', 'Bahrain', 'Bangladesh', 'Barbados', 'Belarus',\n",
       "       'Belgium', 'Belize', 'Benin', 'Bermuda', 'Bhutan', 'Bolivia',\n",
       "       'Bosnia and Herzegovina', 'Botswana', 'Brazil', 'Brunei',\n",
       "       'Bulgaria', 'Burkina Faso', 'Burundi', 'Cambodia', 'Cameroon',\n",
       "       'Canada', 'Cape Verde', 'Central African Republic', 'Chad',\n",
       "       'Chile', 'China', 'Colombia', 'Comoros', 'Congo', 'Cook Islands',\n",
       "       'Costa Rica', \"Cote d'Ivoire\", 'Croatia', 'Cuba', 'Cyprus',\n",
       "       'Czechia', 'Democratic Republic of Congo', 'Denmark', 'Djibouti',\n",
       "       'Dominica', 'Dominican Republic', 'East Asia & Pacific (WB)',\n",
       "       'Eastern Mediterranean Region (WHO)', 'Ecuador', 'Egypt',\n",
       "       'El Salvador', 'England', 'Equatorial Guinea', 'Eritrea',\n",
       "       'Estonia', 'Eswatini', 'Ethiopia', 'Europe & Central Asia (WB)',\n",
       "       'European Region (WHO)', 'Fiji', 'Finland', 'France', 'G20',\n",
       "       'Gabon', 'Gambia', 'Georgia', 'Germany', 'Ghana', 'Greece',\n",
       "       'Greenland', 'Grenada', 'Guam', 'Guatemala', 'Guinea',\n",
       "       'Guinea-Bissau', 'Guyana', 'Haiti', 'Honduras', 'Hungary',\n",
       "       'Iceland', 'India', 'Indonesia', 'Iran', 'Iraq', 'Ireland',\n",
       "       'Israel', 'Italy', 'Jamaica', 'Japan', 'Jordan', 'Kazakhstan',\n",
       "       'Kenya', 'Kiribati', 'Kuwait', 'Kyrgyzstan', 'Laos',\n",
       "       'Latin America & Caribbean (WB)', 'Latvia', 'Lebanon', 'Lesotho',\n",
       "       'Liberia', 'Libya', 'Lithuania', 'Luxembourg', 'Madagascar',\n",
       "       'Malawi', 'Malaysia', 'Maldives', 'Mali', 'Malta',\n",
       "       'Marshall Islands', 'Mauritania', 'Mauritius', 'Mexico',\n",
       "       'Micronesia (country)', 'Middle East & North Africa (WB)',\n",
       "       'Moldova', 'Monaco', 'Mongolia', 'Montenegro', 'Morocco',\n",
       "       'Mozambique', 'Myanmar', 'Namibia', 'Nauru', 'Nepal',\n",
       "       'Netherlands', 'New Zealand', 'Nicaragua', 'Niger', 'Nigeria',\n",
       "       'Niue', 'North America (WB)', 'North Korea', 'North Macedonia',\n",
       "       'Northern Ireland', 'Northern Mariana Islands', 'Norway',\n",
       "       'OECD Countries', 'Oman', 'Pakistan', 'Palau', 'Palestine',\n",
       "       'Panama', 'Papua New Guinea', 'Paraguay', 'Peru', 'Philippines',\n",
       "       'Poland', 'Portugal', 'Puerto Rico', 'Qatar',\n",
       "       'Region of the Americas (WHO)', 'Romania', 'Russia', 'Rwanda',\n",
       "       'Saint Kitts and Nevis', 'Saint Lucia',\n",
       "       'Saint Vincent and the Grenadines', 'Samoa', 'San Marino',\n",
       "       'Sao Tome and Principe', 'Saudi Arabia', 'Scotland', 'Senegal',\n",
       "       'Serbia', 'Seychelles', 'Sierra Leone', 'Singapore', 'Slovakia',\n",
       "       'Slovenia', 'Solomon Islands', 'Somalia', 'South Africa',\n",
       "       'South Asia (WB)', 'South Korea', 'South Sudan',\n",
       "       'South-East Asia Region (WHO)', 'Spain', 'Sri Lanka',\n",
       "       'Sub-Saharan Africa (WB)', 'Sudan', 'Suriname', 'Sweden',\n",
       "       'Switzerland', 'Syria', 'Taiwan', 'Tajikistan', 'Tanzania',\n",
       "       'Thailand', 'Timor', 'Togo', 'Tokelau', 'Tonga',\n",
       "       'Trinidad and Tobago', 'Tunisia', 'Turkey', 'Turkmenistan',\n",
       "       'Tuvalu', 'Uganda', 'Ukraine', 'United Arab Emirates',\n",
       "       'United Kingdom', 'United States', 'United States Virgin Islands',\n",
       "       'Uruguay', 'Uzbekistan', 'Vanuatu', 'Venezuela', 'Vietnam',\n",
       "       'Wales', 'Western Pacific Region (WHO)', 'World',\n",
       "       'World Bank High Income', 'World Bank Low Income',\n",
       "       'World Bank Lower Middle Income', 'World Bank Upper Middle Income',\n",
       "       'Yemen', 'Zambia', 'Zimbabwe'], dtype=object)"
      ]
     },
     "execution_count": 40,
     "metadata": {},
     "output_type": "execute_result"
    }
   ],
   "source": [
    "valores_unicos = df['Entity'].unique()\n",
    "valores_unicos"
   ]
  },
  {
   "attachments": {},
   "cell_type": "markdown",
   "metadata": {},
   "source": [
    "### Separando as entidades que são regiões"
   ]
  },
  {
   "cell_type": "code",
   "execution_count": 41,
   "metadata": {},
   "outputs": [
    {
     "name": "stdout",
     "output_type": "stream",
     "text": [
      "                               Regions\n",
      "0                 African Region (WHO)\n",
      "1             East Asia & Pacific (WB)\n",
      "2   Eastern Mediterranean Region (WHO)\n",
      "3           Europe & Central Asia (WB)\n",
      "4                European Region (WHO)\n",
      "5       Latin America & Caribbean (WB)\n",
      "6      Middle East & North Africa (WB)\n",
      "7                   North America (WB)\n",
      "8         Region of the Americas (WHO)\n",
      "9                      South Asia (WB)\n",
      "10        South-East Asia Region (WHO)\n",
      "11             Sub-Saharan Africa (WB)\n",
      "12        Western Pacific Region (WHO)\n"
     ]
    }
   ],
   "source": [
    "#regions\n",
    "\n",
    "array_regions = []\n",
    "\n",
    "for palavra in valores_unicos:\n",
    "    if 'Region' in palavra or 'WB' in palavra or 'WHO' in palavra:\n",
    "        array_regions.append(palavra)\n",
    "\n",
    "df_regions= pd.DataFrame(array_regions, columns=['Regions'])\n",
    "\n",
    "print(df_regions)"
   ]
  },
  {
   "attachments": {},
   "cell_type": "markdown",
   "metadata": {},
   "source": [
    "### Separando as entidades que são agrupamentos de países de acordo com a renda"
   ]
  },
  {
   "cell_type": "code",
   "execution_count": 42,
   "metadata": {},
   "outputs": [
    {
     "name": "stdout",
     "output_type": "stream",
     "text": [
      "                   Country Income\n",
      "0          World Bank High Income\n",
      "1           World Bank Low Income\n",
      "2  World Bank Lower Middle Income\n",
      "3  World Bank Upper Middle Income\n"
     ]
    }
   ],
   "source": [
    "#países de acordo com a renda\n",
    "array_country_income = []\n",
    "\n",
    "for palavra in valores_unicos:\n",
    "    if 'Income' in palavra:\n",
    "        array_country_income.append(palavra)\n",
    "\n",
    "df_country_income= pd.DataFrame(array_country_income, columns=['Country Income'])\n",
    "\n",
    "print(df_country_income)"
   ]
  },
  {
   "cell_type": "markdown",
   "metadata": {},
   "source": [
    "### Retirando as entidades que não são países"
   ]
  },
  {
   "cell_type": "code",
   "execution_count": 43,
   "metadata": {},
   "outputs": [],
   "source": [
    "#retirando\n",
    "\n",
    "# Obter os valores únicos da coluna 'Entity' que atendem ao critério\n",
    "array_not_a_country = []\n",
    "\n",
    "for palavra in valores_unicos:\n",
    "    if 'G20' in palavra or 'WB' in palavra or 'WHO' in palavra or 'Income' in palavra:\n",
    "        array_not_a_country.append(palavra)\n",
    "\n",
    "df_not_a_country = pd.DataFrame(array_not_a_country, columns=['Not a Country'])\n"
   ]
  },
  {
   "cell_type": "code",
   "execution_count": 44,
   "metadata": {},
   "outputs": [
    {
     "data": {
      "text/html": [
       "<div>\n",
       "<style scoped>\n",
       "    .dataframe tbody tr th:only-of-type {\n",
       "        vertical-align: middle;\n",
       "    }\n",
       "\n",
       "    .dataframe tbody tr th {\n",
       "        vertical-align: top;\n",
       "    }\n",
       "\n",
       "    .dataframe thead th {\n",
       "        text-align: right;\n",
       "    }\n",
       "</style>\n",
       "<table border=\"1\" class=\"dataframe\">\n",
       "  <thead>\n",
       "    <tr style=\"text-align: right;\">\n",
       "      <th></th>\n",
       "      <th>Not a Country</th>\n",
       "    </tr>\n",
       "  </thead>\n",
       "  <tbody>\n",
       "    <tr>\n",
       "      <th>0</th>\n",
       "      <td>African Region (WHO)</td>\n",
       "    </tr>\n",
       "    <tr>\n",
       "      <th>1</th>\n",
       "      <td>East Asia &amp; Pacific (WB)</td>\n",
       "    </tr>\n",
       "    <tr>\n",
       "      <th>2</th>\n",
       "      <td>Eastern Mediterranean Region (WHO)</td>\n",
       "    </tr>\n",
       "    <tr>\n",
       "      <th>3</th>\n",
       "      <td>Europe &amp; Central Asia (WB)</td>\n",
       "    </tr>\n",
       "    <tr>\n",
       "      <th>4</th>\n",
       "      <td>European Region (WHO)</td>\n",
       "    </tr>\n",
       "    <tr>\n",
       "      <th>5</th>\n",
       "      <td>G20</td>\n",
       "    </tr>\n",
       "    <tr>\n",
       "      <th>6</th>\n",
       "      <td>Latin America &amp; Caribbean (WB)</td>\n",
       "    </tr>\n",
       "    <tr>\n",
       "      <th>7</th>\n",
       "      <td>Middle East &amp; North Africa (WB)</td>\n",
       "    </tr>\n",
       "    <tr>\n",
       "      <th>8</th>\n",
       "      <td>North America (WB)</td>\n",
       "    </tr>\n",
       "    <tr>\n",
       "      <th>9</th>\n",
       "      <td>Region of the Americas (WHO)</td>\n",
       "    </tr>\n",
       "    <tr>\n",
       "      <th>10</th>\n",
       "      <td>South Asia (WB)</td>\n",
       "    </tr>\n",
       "    <tr>\n",
       "      <th>11</th>\n",
       "      <td>South-East Asia Region (WHO)</td>\n",
       "    </tr>\n",
       "    <tr>\n",
       "      <th>12</th>\n",
       "      <td>Sub-Saharan Africa (WB)</td>\n",
       "    </tr>\n",
       "    <tr>\n",
       "      <th>13</th>\n",
       "      <td>Western Pacific Region (WHO)</td>\n",
       "    </tr>\n",
       "    <tr>\n",
       "      <th>14</th>\n",
       "      <td>World Bank High Income</td>\n",
       "    </tr>\n",
       "    <tr>\n",
       "      <th>15</th>\n",
       "      <td>World Bank Low Income</td>\n",
       "    </tr>\n",
       "    <tr>\n",
       "      <th>16</th>\n",
       "      <td>World Bank Lower Middle Income</td>\n",
       "    </tr>\n",
       "    <tr>\n",
       "      <th>17</th>\n",
       "      <td>World Bank Upper Middle Income</td>\n",
       "    </tr>\n",
       "  </tbody>\n",
       "</table>\n",
       "</div>"
      ],
      "text/plain": [
       "                         Not a Country\n",
       "0                 African Region (WHO)\n",
       "1             East Asia & Pacific (WB)\n",
       "2   Eastern Mediterranean Region (WHO)\n",
       "3           Europe & Central Asia (WB)\n",
       "4                European Region (WHO)\n",
       "5                                  G20\n",
       "6       Latin America & Caribbean (WB)\n",
       "7      Middle East & North Africa (WB)\n",
       "8                   North America (WB)\n",
       "9         Region of the Americas (WHO)\n",
       "10                     South Asia (WB)\n",
       "11        South-East Asia Region (WHO)\n",
       "12             Sub-Saharan Africa (WB)\n",
       "13        Western Pacific Region (WHO)\n",
       "14              World Bank High Income\n",
       "15               World Bank Low Income\n",
       "16      World Bank Lower Middle Income\n",
       "17      World Bank Upper Middle Income"
      ]
     },
     "execution_count": 44,
     "metadata": {},
     "output_type": "execute_result"
    }
   ],
   "source": [
    "df_not_a_country"
   ]
  },
  {
   "cell_type": "code",
   "execution_count": 45,
   "metadata": {},
   "outputs": [
    {
     "name": "stdout",
     "output_type": "stream",
     "text": [
      "\n",
      "DataFrame após a eliminação:\n"
     ]
    },
    {
     "data": {
      "text/html": [
       "<div>\n",
       "<style scoped>\n",
       "    .dataframe tbody tr th:only-of-type {\n",
       "        vertical-align: middle;\n",
       "    }\n",
       "\n",
       "    .dataframe tbody tr th {\n",
       "        vertical-align: top;\n",
       "    }\n",
       "\n",
       "    .dataframe thead th {\n",
       "        text-align: right;\n",
       "    }\n",
       "</style>\n",
       "<table border=\"1\" class=\"dataframe\">\n",
       "  <thead>\n",
       "    <tr style=\"text-align: right;\">\n",
       "      <th></th>\n",
       "      <th>Entity</th>\n",
       "      <th>Code</th>\n",
       "      <th>Year</th>\n",
       "      <th>Deaths - Neoplasms - Sex: Both - Age: Under 5 (Rate)</th>\n",
       "      <th>Deaths - Neoplasms - Sex: Both - Age: Age-standardized (Rate)</th>\n",
       "      <th>Deaths - Neoplasms - Sex: Both - Age: All Ages (Rate)</th>\n",
       "      <th>Deaths - Neoplasms - Sex: Both - Age: 70+ years (Rate)</th>\n",
       "      <th>Deaths - Neoplasms - Sex: Both - Age: 5-14 years (Rate)</th>\n",
       "      <th>Deaths - Neoplasms - Sex: Both - Age: 50-69 years (Rate)</th>\n",
       "      <th>Deaths - Neoplasms - Sex: Both - Age: 15-49 years (Rate)</th>\n",
       "    </tr>\n",
       "  </thead>\n",
       "  <tbody>\n",
       "    <tr>\n",
       "      <th>0</th>\n",
       "      <td>Afghanistan</td>\n",
       "      <td>AFG</td>\n",
       "      <td>1990</td>\n",
       "      <td>21.333432</td>\n",
       "      <td>159.964864</td>\n",
       "      <td>101.409895</td>\n",
       "      <td>1021.494249</td>\n",
       "      <td>9.372839</td>\n",
       "      <td>407.233106</td>\n",
       "      <td>43.620659</td>\n",
       "    </tr>\n",
       "    <tr>\n",
       "      <th>1</th>\n",
       "      <td>Afghanistan</td>\n",
       "      <td>AFG</td>\n",
       "      <td>1991</td>\n",
       "      <td>18.701225</td>\n",
       "      <td>158.455892</td>\n",
       "      <td>93.714269</td>\n",
       "      <td>1013.760277</td>\n",
       "      <td>9.456989</td>\n",
       "      <td>404.506587</td>\n",
       "      <td>40.530804</td>\n",
       "    </tr>\n",
       "    <tr>\n",
       "      <th>2</th>\n",
       "      <td>Afghanistan</td>\n",
       "      <td>AFG</td>\n",
       "      <td>1992</td>\n",
       "      <td>16.801217</td>\n",
       "      <td>157.390960</td>\n",
       "      <td>84.011048</td>\n",
       "      <td>1007.834265</td>\n",
       "      <td>9.737245</td>\n",
       "      <td>402.687908</td>\n",
       "      <td>37.166581</td>\n",
       "    </tr>\n",
       "    <tr>\n",
       "      <th>3</th>\n",
       "      <td>Afghanistan</td>\n",
       "      <td>AFG</td>\n",
       "      <td>1993</td>\n",
       "      <td>16.527773</td>\n",
       "      <td>157.574448</td>\n",
       "      <td>79.038807</td>\n",
       "      <td>1006.565188</td>\n",
       "      <td>9.832934</td>\n",
       "      <td>404.419442</td>\n",
       "      <td>35.723897</td>\n",
       "    </tr>\n",
       "    <tr>\n",
       "      <th>4</th>\n",
       "      <td>Afghanistan</td>\n",
       "      <td>AFG</td>\n",
       "      <td>1994</td>\n",
       "      <td>16.527686</td>\n",
       "      <td>158.031726</td>\n",
       "      <td>77.173172</td>\n",
       "      <td>1006.363704</td>\n",
       "      <td>9.564733</td>\n",
       "      <td>407.332265</td>\n",
       "      <td>35.458716</td>\n",
       "    </tr>\n",
       "    <tr>\n",
       "      <th>...</th>\n",
       "      <td>...</td>\n",
       "      <td>...</td>\n",
       "      <td>...</td>\n",
       "      <td>...</td>\n",
       "      <td>...</td>\n",
       "      <td>...</td>\n",
       "      <td>...</td>\n",
       "      <td>...</td>\n",
       "      <td>...</td>\n",
       "      <td>...</td>\n",
       "    </tr>\n",
       "    <tr>\n",
       "      <th>6835</th>\n",
       "      <td>Zimbabwe</td>\n",
       "      <td>ZWE</td>\n",
       "      <td>2015</td>\n",
       "      <td>2.642187</td>\n",
       "      <td>182.596478</td>\n",
       "      <td>79.281072</td>\n",
       "      <td>1340.306429</td>\n",
       "      <td>2.495452</td>\n",
       "      <td>465.147739</td>\n",
       "      <td>34.026731</td>\n",
       "    </tr>\n",
       "    <tr>\n",
       "      <th>6836</th>\n",
       "      <td>Zimbabwe</td>\n",
       "      <td>ZWE</td>\n",
       "      <td>2016</td>\n",
       "      <td>2.753739</td>\n",
       "      <td>182.424420</td>\n",
       "      <td>80.128518</td>\n",
       "      <td>1336.598159</td>\n",
       "      <td>2.683036</td>\n",
       "      <td>464.267622</td>\n",
       "      <td>34.769286</td>\n",
       "    </tr>\n",
       "    <tr>\n",
       "      <th>6837</th>\n",
       "      <td>Zimbabwe</td>\n",
       "      <td>ZWE</td>\n",
       "      <td>2017</td>\n",
       "      <td>2.752663</td>\n",
       "      <td>181.835774</td>\n",
       "      <td>80.769870</td>\n",
       "      <td>1333.762807</td>\n",
       "      <td>2.768516</td>\n",
       "      <td>461.892531</td>\n",
       "      <td>35.273065</td>\n",
       "    </tr>\n",
       "    <tr>\n",
       "      <th>6838</th>\n",
       "      <td>Zimbabwe</td>\n",
       "      <td>ZWE</td>\n",
       "      <td>2018</td>\n",
       "      <td>2.718565</td>\n",
       "      <td>181.356873</td>\n",
       "      <td>81.484036</td>\n",
       "      <td>1330.364400</td>\n",
       "      <td>2.797381</td>\n",
       "      <td>458.788271</td>\n",
       "      <td>35.747494</td>\n",
       "    </tr>\n",
       "    <tr>\n",
       "      <th>6839</th>\n",
       "      <td>Zimbabwe</td>\n",
       "      <td>ZWE</td>\n",
       "      <td>2019</td>\n",
       "      <td>2.711397</td>\n",
       "      <td>180.933963</td>\n",
       "      <td>82.291345</td>\n",
       "      <td>1327.744695</td>\n",
       "      <td>2.749125</td>\n",
       "      <td>455.847569</td>\n",
       "      <td>36.221210</td>\n",
       "    </tr>\n",
       "  </tbody>\n",
       "</table>\n",
       "<p>6300 rows × 10 columns</p>\n",
       "</div>"
      ],
      "text/plain": [
       "           Entity Code  Year   \n",
       "0     Afghanistan  AFG  1990  \\\n",
       "1     Afghanistan  AFG  1991   \n",
       "2     Afghanistan  AFG  1992   \n",
       "3     Afghanistan  AFG  1993   \n",
       "4     Afghanistan  AFG  1994   \n",
       "...           ...  ...   ...   \n",
       "6835     Zimbabwe  ZWE  2015   \n",
       "6836     Zimbabwe  ZWE  2016   \n",
       "6837     Zimbabwe  ZWE  2017   \n",
       "6838     Zimbabwe  ZWE  2018   \n",
       "6839     Zimbabwe  ZWE  2019   \n",
       "\n",
       "      Deaths - Neoplasms - Sex: Both - Age: Under 5 (Rate)   \n",
       "0                                             21.333432     \\\n",
       "1                                             18.701225      \n",
       "2                                             16.801217      \n",
       "3                                             16.527773      \n",
       "4                                             16.527686      \n",
       "...                                                 ...      \n",
       "6835                                           2.642187      \n",
       "6836                                           2.753739      \n",
       "6837                                           2.752663      \n",
       "6838                                           2.718565      \n",
       "6839                                           2.711397      \n",
       "\n",
       "      Deaths - Neoplasms - Sex: Both - Age: Age-standardized (Rate)   \n",
       "0                                            159.964864              \\\n",
       "1                                            158.455892               \n",
       "2                                            157.390960               \n",
       "3                                            157.574448               \n",
       "4                                            158.031726               \n",
       "...                                                 ...               \n",
       "6835                                         182.596478               \n",
       "6836                                         182.424420               \n",
       "6837                                         181.835774               \n",
       "6838                                         181.356873               \n",
       "6839                                         180.933963               \n",
       "\n",
       "      Deaths - Neoplasms - Sex: Both - Age: All Ages (Rate)   \n",
       "0                                            101.409895      \\\n",
       "1                                             93.714269       \n",
       "2                                             84.011048       \n",
       "3                                             79.038807       \n",
       "4                                             77.173172       \n",
       "...                                                 ...       \n",
       "6835                                          79.281072       \n",
       "6836                                          80.128518       \n",
       "6837                                          80.769870       \n",
       "6838                                          81.484036       \n",
       "6839                                          82.291345       \n",
       "\n",
       "      Deaths - Neoplasms - Sex: Both - Age: 70+ years (Rate)   \n",
       "0                                           1021.494249       \\\n",
       "1                                           1013.760277        \n",
       "2                                           1007.834265        \n",
       "3                                           1006.565188        \n",
       "4                                           1006.363704        \n",
       "...                                                 ...        \n",
       "6835                                        1340.306429        \n",
       "6836                                        1336.598159        \n",
       "6837                                        1333.762807        \n",
       "6838                                        1330.364400        \n",
       "6839                                        1327.744695        \n",
       "\n",
       "      Deaths - Neoplasms - Sex: Both - Age: 5-14 years (Rate)   \n",
       "0                                              9.372839        \\\n",
       "1                                              9.456989         \n",
       "2                                              9.737245         \n",
       "3                                              9.832934         \n",
       "4                                              9.564733         \n",
       "...                                                 ...         \n",
       "6835                                           2.495452         \n",
       "6836                                           2.683036         \n",
       "6837                                           2.768516         \n",
       "6838                                           2.797381         \n",
       "6839                                           2.749125         \n",
       "\n",
       "      Deaths - Neoplasms - Sex: Both - Age: 50-69 years (Rate)   \n",
       "0                                            407.233106         \\\n",
       "1                                            404.506587          \n",
       "2                                            402.687908          \n",
       "3                                            404.419442          \n",
       "4                                            407.332265          \n",
       "...                                                 ...          \n",
       "6835                                         465.147739          \n",
       "6836                                         464.267622          \n",
       "6837                                         461.892531          \n",
       "6838                                         458.788271          \n",
       "6839                                         455.847569          \n",
       "\n",
       "      Deaths - Neoplasms - Sex: Both - Age: 15-49 years (Rate)  \n",
       "0                                             43.620659         \n",
       "1                                             40.530804         \n",
       "2                                             37.166581         \n",
       "3                                             35.723897         \n",
       "4                                             35.458716         \n",
       "...                                                 ...         \n",
       "6835                                          34.026731         \n",
       "6836                                          34.769286         \n",
       "6837                                          35.273065         \n",
       "6838                                          35.747494         \n",
       "6839                                          36.221210         \n",
       "\n",
       "[6300 rows x 10 columns]"
      ]
     },
     "execution_count": 45,
     "metadata": {},
     "output_type": "execute_result"
    }
   ],
   "source": [
    "# Eliminar os valores presentes em df_regions do DataFrame df\n",
    "df = df[~df['Entity'].isin(df_not_a_country['Not a Country'])]\n",
    "\n",
    "# Exibir o DataFrame após a eliminação\n",
    "print(\"\\nDataFrame após a eliminação:\")\n",
    "df"
   ]
  },
  {
   "cell_type": "markdown",
   "metadata": {
    "id": "SPY49sQyjzHg"
   },
   "source": [
    "## 2.2 Limpeza e Transformação de Dados Necessários"
   ]
  },
  {
   "cell_type": "markdown",
   "metadata": {
    "id": "p6jzEp53ifxe"
   },
   "source": [
    "*Para facilitar a manipulação das colunas, abreviamos Deaths - Neoplasms - Sex: Both - Age para **DNS**\n",
    "\n",
    "\n"
   ]
  },
  {
   "cell_type": "code",
   "execution_count": 46,
   "metadata": {
    "id": "MqC9zBBAZFrl"
   },
   "outputs": [],
   "source": [
    "df = df.rename(columns={ \"Deaths - Neoplasms - Sex: Both - Age: Under 5 (Rate)\": \"DNS < 5\",\n",
    "                \"Deaths - Neoplasms - Sex: Both - Age: Age-standardized (Rate)\": \"DNS Padronizado\",\n",
    "                \"Deaths - Neoplasms - Sex: Both - Age: All Ages (Rate)\": \"DNS all ages\",\n",
    "                \"Deaths - Neoplasms - Sex: Both - Age: 70+ years (Rate)\" : \"DNS > 70\",\n",
    "                \"Deaths - Neoplasms - Sex: Both - Age: 5-14 years (Rate)\" : \"5 < DNS < 14\",\n",
    "                \"Deaths - Neoplasms - Sex: Both - Age: 50-69 years (Rate)\" : \"50 < DNS < 69\",\n",
    "                \"Deaths - Neoplasms - Sex: Both - Age: 15-49 years (Rate)\" : \"15 < DNS < 49\",\n",
    "                 \"Entity\":\"Country\" })"
   ]
  },
  {
   "cell_type": "code",
   "execution_count": 47,
   "metadata": {},
   "outputs": [
    {
     "data": {
      "text/html": [
       "<div>\n",
       "<style scoped>\n",
       "    .dataframe tbody tr th:only-of-type {\n",
       "        vertical-align: middle;\n",
       "    }\n",
       "\n",
       "    .dataframe tbody tr th {\n",
       "        vertical-align: top;\n",
       "    }\n",
       "\n",
       "    .dataframe thead th {\n",
       "        text-align: right;\n",
       "    }\n",
       "</style>\n",
       "<table border=\"1\" class=\"dataframe\">\n",
       "  <thead>\n",
       "    <tr style=\"text-align: right;\">\n",
       "      <th></th>\n",
       "      <th>Country</th>\n",
       "      <th>Code</th>\n",
       "      <th>Year</th>\n",
       "      <th>DNS &lt; 5</th>\n",
       "      <th>DNS Padronizado</th>\n",
       "      <th>DNS all ages</th>\n",
       "      <th>DNS &gt; 70</th>\n",
       "      <th>5 &lt; DNS &lt; 14</th>\n",
       "      <th>50 &lt; DNS &lt; 69</th>\n",
       "      <th>15 &lt; DNS &lt; 49</th>\n",
       "    </tr>\n",
       "  </thead>\n",
       "  <tbody>\n",
       "    <tr>\n",
       "      <th>0</th>\n",
       "      <td>Afghanistan</td>\n",
       "      <td>AFG</td>\n",
       "      <td>1990</td>\n",
       "      <td>21.333432</td>\n",
       "      <td>159.964864</td>\n",
       "      <td>101.409895</td>\n",
       "      <td>1021.494249</td>\n",
       "      <td>9.372839</td>\n",
       "      <td>407.233106</td>\n",
       "      <td>43.620659</td>\n",
       "    </tr>\n",
       "    <tr>\n",
       "      <th>1</th>\n",
       "      <td>Afghanistan</td>\n",
       "      <td>AFG</td>\n",
       "      <td>1991</td>\n",
       "      <td>18.701225</td>\n",
       "      <td>158.455892</td>\n",
       "      <td>93.714269</td>\n",
       "      <td>1013.760277</td>\n",
       "      <td>9.456989</td>\n",
       "      <td>404.506587</td>\n",
       "      <td>40.530804</td>\n",
       "    </tr>\n",
       "    <tr>\n",
       "      <th>2</th>\n",
       "      <td>Afghanistan</td>\n",
       "      <td>AFG</td>\n",
       "      <td>1992</td>\n",
       "      <td>16.801217</td>\n",
       "      <td>157.390960</td>\n",
       "      <td>84.011048</td>\n",
       "      <td>1007.834265</td>\n",
       "      <td>9.737245</td>\n",
       "      <td>402.687908</td>\n",
       "      <td>37.166581</td>\n",
       "    </tr>\n",
       "    <tr>\n",
       "      <th>3</th>\n",
       "      <td>Afghanistan</td>\n",
       "      <td>AFG</td>\n",
       "      <td>1993</td>\n",
       "      <td>16.527773</td>\n",
       "      <td>157.574448</td>\n",
       "      <td>79.038807</td>\n",
       "      <td>1006.565188</td>\n",
       "      <td>9.832934</td>\n",
       "      <td>404.419442</td>\n",
       "      <td>35.723897</td>\n",
       "    </tr>\n",
       "    <tr>\n",
       "      <th>4</th>\n",
       "      <td>Afghanistan</td>\n",
       "      <td>AFG</td>\n",
       "      <td>1994</td>\n",
       "      <td>16.527686</td>\n",
       "      <td>158.031726</td>\n",
       "      <td>77.173172</td>\n",
       "      <td>1006.363704</td>\n",
       "      <td>9.564733</td>\n",
       "      <td>407.332265</td>\n",
       "      <td>35.458716</td>\n",
       "    </tr>\n",
       "    <tr>\n",
       "      <th>...</th>\n",
       "      <td>...</td>\n",
       "      <td>...</td>\n",
       "      <td>...</td>\n",
       "      <td>...</td>\n",
       "      <td>...</td>\n",
       "      <td>...</td>\n",
       "      <td>...</td>\n",
       "      <td>...</td>\n",
       "      <td>...</td>\n",
       "      <td>...</td>\n",
       "    </tr>\n",
       "    <tr>\n",
       "      <th>6835</th>\n",
       "      <td>Zimbabwe</td>\n",
       "      <td>ZWE</td>\n",
       "      <td>2015</td>\n",
       "      <td>2.642187</td>\n",
       "      <td>182.596478</td>\n",
       "      <td>79.281072</td>\n",
       "      <td>1340.306429</td>\n",
       "      <td>2.495452</td>\n",
       "      <td>465.147739</td>\n",
       "      <td>34.026731</td>\n",
       "    </tr>\n",
       "    <tr>\n",
       "      <th>6836</th>\n",
       "      <td>Zimbabwe</td>\n",
       "      <td>ZWE</td>\n",
       "      <td>2016</td>\n",
       "      <td>2.753739</td>\n",
       "      <td>182.424420</td>\n",
       "      <td>80.128518</td>\n",
       "      <td>1336.598159</td>\n",
       "      <td>2.683036</td>\n",
       "      <td>464.267622</td>\n",
       "      <td>34.769286</td>\n",
       "    </tr>\n",
       "    <tr>\n",
       "      <th>6837</th>\n",
       "      <td>Zimbabwe</td>\n",
       "      <td>ZWE</td>\n",
       "      <td>2017</td>\n",
       "      <td>2.752663</td>\n",
       "      <td>181.835774</td>\n",
       "      <td>80.769870</td>\n",
       "      <td>1333.762807</td>\n",
       "      <td>2.768516</td>\n",
       "      <td>461.892531</td>\n",
       "      <td>35.273065</td>\n",
       "    </tr>\n",
       "    <tr>\n",
       "      <th>6838</th>\n",
       "      <td>Zimbabwe</td>\n",
       "      <td>ZWE</td>\n",
       "      <td>2018</td>\n",
       "      <td>2.718565</td>\n",
       "      <td>181.356873</td>\n",
       "      <td>81.484036</td>\n",
       "      <td>1330.364400</td>\n",
       "      <td>2.797381</td>\n",
       "      <td>458.788271</td>\n",
       "      <td>35.747494</td>\n",
       "    </tr>\n",
       "    <tr>\n",
       "      <th>6839</th>\n",
       "      <td>Zimbabwe</td>\n",
       "      <td>ZWE</td>\n",
       "      <td>2019</td>\n",
       "      <td>2.711397</td>\n",
       "      <td>180.933963</td>\n",
       "      <td>82.291345</td>\n",
       "      <td>1327.744695</td>\n",
       "      <td>2.749125</td>\n",
       "      <td>455.847569</td>\n",
       "      <td>36.221210</td>\n",
       "    </tr>\n",
       "  </tbody>\n",
       "</table>\n",
       "<p>6300 rows × 10 columns</p>\n",
       "</div>"
      ],
      "text/plain": [
       "          Country Code  Year    DNS < 5  DNS Padronizado  DNS all ages   \n",
       "0     Afghanistan  AFG  1990  21.333432       159.964864    101.409895  \\\n",
       "1     Afghanistan  AFG  1991  18.701225       158.455892     93.714269   \n",
       "2     Afghanistan  AFG  1992  16.801217       157.390960     84.011048   \n",
       "3     Afghanistan  AFG  1993  16.527773       157.574448     79.038807   \n",
       "4     Afghanistan  AFG  1994  16.527686       158.031726     77.173172   \n",
       "...           ...  ...   ...        ...              ...           ...   \n",
       "6835     Zimbabwe  ZWE  2015   2.642187       182.596478     79.281072   \n",
       "6836     Zimbabwe  ZWE  2016   2.753739       182.424420     80.128518   \n",
       "6837     Zimbabwe  ZWE  2017   2.752663       181.835774     80.769870   \n",
       "6838     Zimbabwe  ZWE  2018   2.718565       181.356873     81.484036   \n",
       "6839     Zimbabwe  ZWE  2019   2.711397       180.933963     82.291345   \n",
       "\n",
       "         DNS > 70  5 < DNS < 14  50 < DNS < 69  15 < DNS < 49  \n",
       "0     1021.494249      9.372839     407.233106      43.620659  \n",
       "1     1013.760277      9.456989     404.506587      40.530804  \n",
       "2     1007.834265      9.737245     402.687908      37.166581  \n",
       "3     1006.565188      9.832934     404.419442      35.723897  \n",
       "4     1006.363704      9.564733     407.332265      35.458716  \n",
       "...           ...           ...            ...            ...  \n",
       "6835  1340.306429      2.495452     465.147739      34.026731  \n",
       "6836  1336.598159      2.683036     464.267622      34.769286  \n",
       "6837  1333.762807      2.768516     461.892531      35.273065  \n",
       "6838  1330.364400      2.797381     458.788271      35.747494  \n",
       "6839  1327.744695      2.749125     455.847569      36.221210  \n",
       "\n",
       "[6300 rows x 10 columns]"
      ]
     },
     "execution_count": 47,
     "metadata": {},
     "output_type": "execute_result"
    }
   ],
   "source": [
    "df"
   ]
  },
  {
   "attachments": {},
   "cell_type": "markdown",
   "metadata": {},
   "source": [
    "Vamos alterar a ordem das colunas com DNS, para facilitar a leitura"
   ]
  },
  {
   "cell_type": "code",
   "execution_count": 48,
   "metadata": {},
   "outputs": [
    {
     "data": {
      "text/plain": [
       "Index(['Country', 'Code', 'Year', 'DNS < 5', 'DNS Padronizado', 'DNS all ages',\n",
       "       'DNS > 70', '5 < DNS < 14', '50 < DNS < 69', '15 < DNS < 49'],\n",
       "      dtype='object')"
      ]
     },
     "execution_count": 48,
     "metadata": {},
     "output_type": "execute_result"
    }
   ],
   "source": [
    "#Verificando as colunas com .keys()\n",
    "df.keys()"
   ]
  },
  {
   "cell_type": "code",
   "execution_count": 49,
   "metadata": {},
   "outputs": [
    {
     "data": {
      "text/html": [
       "<div>\n",
       "<style scoped>\n",
       "    .dataframe tbody tr th:only-of-type {\n",
       "        vertical-align: middle;\n",
       "    }\n",
       "\n",
       "    .dataframe tbody tr th {\n",
       "        vertical-align: top;\n",
       "    }\n",
       "\n",
       "    .dataframe thead th {\n",
       "        text-align: right;\n",
       "    }\n",
       "</style>\n",
       "<table border=\"1\" class=\"dataframe\">\n",
       "  <thead>\n",
       "    <tr style=\"text-align: right;\">\n",
       "      <th></th>\n",
       "      <th>Country</th>\n",
       "      <th>Code</th>\n",
       "      <th>Year</th>\n",
       "      <th>DNS &lt; 5</th>\n",
       "      <th>5 &lt; DNS &lt; 14</th>\n",
       "      <th>15 &lt; DNS &lt; 49</th>\n",
       "      <th>50 &lt; DNS &lt; 69</th>\n",
       "      <th>DNS &gt; 70</th>\n",
       "      <th>DNS all ages</th>\n",
       "      <th>DNS Padronizado</th>\n",
       "    </tr>\n",
       "  </thead>\n",
       "  <tbody>\n",
       "    <tr>\n",
       "      <th>0</th>\n",
       "      <td>Afghanistan</td>\n",
       "      <td>AFG</td>\n",
       "      <td>1990</td>\n",
       "      <td>21.333432</td>\n",
       "      <td>9.372839</td>\n",
       "      <td>43.620659</td>\n",
       "      <td>407.233106</td>\n",
       "      <td>1021.494249</td>\n",
       "      <td>101.409895</td>\n",
       "      <td>159.964864</td>\n",
       "    </tr>\n",
       "    <tr>\n",
       "      <th>1</th>\n",
       "      <td>Afghanistan</td>\n",
       "      <td>AFG</td>\n",
       "      <td>1991</td>\n",
       "      <td>18.701225</td>\n",
       "      <td>9.456989</td>\n",
       "      <td>40.530804</td>\n",
       "      <td>404.506587</td>\n",
       "      <td>1013.760277</td>\n",
       "      <td>93.714269</td>\n",
       "      <td>158.455892</td>\n",
       "    </tr>\n",
       "    <tr>\n",
       "      <th>2</th>\n",
       "      <td>Afghanistan</td>\n",
       "      <td>AFG</td>\n",
       "      <td>1992</td>\n",
       "      <td>16.801217</td>\n",
       "      <td>9.737245</td>\n",
       "      <td>37.166581</td>\n",
       "      <td>402.687908</td>\n",
       "      <td>1007.834265</td>\n",
       "      <td>84.011048</td>\n",
       "      <td>157.390960</td>\n",
       "    </tr>\n",
       "    <tr>\n",
       "      <th>3</th>\n",
       "      <td>Afghanistan</td>\n",
       "      <td>AFG</td>\n",
       "      <td>1993</td>\n",
       "      <td>16.527773</td>\n",
       "      <td>9.832934</td>\n",
       "      <td>35.723897</td>\n",
       "      <td>404.419442</td>\n",
       "      <td>1006.565188</td>\n",
       "      <td>79.038807</td>\n",
       "      <td>157.574448</td>\n",
       "    </tr>\n",
       "    <tr>\n",
       "      <th>4</th>\n",
       "      <td>Afghanistan</td>\n",
       "      <td>AFG</td>\n",
       "      <td>1994</td>\n",
       "      <td>16.527686</td>\n",
       "      <td>9.564733</td>\n",
       "      <td>35.458716</td>\n",
       "      <td>407.332265</td>\n",
       "      <td>1006.363704</td>\n",
       "      <td>77.173172</td>\n",
       "      <td>158.031726</td>\n",
       "    </tr>\n",
       "    <tr>\n",
       "      <th>...</th>\n",
       "      <td>...</td>\n",
       "      <td>...</td>\n",
       "      <td>...</td>\n",
       "      <td>...</td>\n",
       "      <td>...</td>\n",
       "      <td>...</td>\n",
       "      <td>...</td>\n",
       "      <td>...</td>\n",
       "      <td>...</td>\n",
       "      <td>...</td>\n",
       "    </tr>\n",
       "    <tr>\n",
       "      <th>6835</th>\n",
       "      <td>Zimbabwe</td>\n",
       "      <td>ZWE</td>\n",
       "      <td>2015</td>\n",
       "      <td>2.642187</td>\n",
       "      <td>2.495452</td>\n",
       "      <td>34.026731</td>\n",
       "      <td>465.147739</td>\n",
       "      <td>1340.306429</td>\n",
       "      <td>79.281072</td>\n",
       "      <td>182.596478</td>\n",
       "    </tr>\n",
       "    <tr>\n",
       "      <th>6836</th>\n",
       "      <td>Zimbabwe</td>\n",
       "      <td>ZWE</td>\n",
       "      <td>2016</td>\n",
       "      <td>2.753739</td>\n",
       "      <td>2.683036</td>\n",
       "      <td>34.769286</td>\n",
       "      <td>464.267622</td>\n",
       "      <td>1336.598159</td>\n",
       "      <td>80.128518</td>\n",
       "      <td>182.424420</td>\n",
       "    </tr>\n",
       "    <tr>\n",
       "      <th>6837</th>\n",
       "      <td>Zimbabwe</td>\n",
       "      <td>ZWE</td>\n",
       "      <td>2017</td>\n",
       "      <td>2.752663</td>\n",
       "      <td>2.768516</td>\n",
       "      <td>35.273065</td>\n",
       "      <td>461.892531</td>\n",
       "      <td>1333.762807</td>\n",
       "      <td>80.769870</td>\n",
       "      <td>181.835774</td>\n",
       "    </tr>\n",
       "    <tr>\n",
       "      <th>6838</th>\n",
       "      <td>Zimbabwe</td>\n",
       "      <td>ZWE</td>\n",
       "      <td>2018</td>\n",
       "      <td>2.718565</td>\n",
       "      <td>2.797381</td>\n",
       "      <td>35.747494</td>\n",
       "      <td>458.788271</td>\n",
       "      <td>1330.364400</td>\n",
       "      <td>81.484036</td>\n",
       "      <td>181.356873</td>\n",
       "    </tr>\n",
       "    <tr>\n",
       "      <th>6839</th>\n",
       "      <td>Zimbabwe</td>\n",
       "      <td>ZWE</td>\n",
       "      <td>2019</td>\n",
       "      <td>2.711397</td>\n",
       "      <td>2.749125</td>\n",
       "      <td>36.221210</td>\n",
       "      <td>455.847569</td>\n",
       "      <td>1327.744695</td>\n",
       "      <td>82.291345</td>\n",
       "      <td>180.933963</td>\n",
       "    </tr>\n",
       "  </tbody>\n",
       "</table>\n",
       "<p>6300 rows × 10 columns</p>\n",
       "</div>"
      ],
      "text/plain": [
       "          Country Code  Year    DNS < 5  5 < DNS < 14  15 < DNS < 49   \n",
       "0     Afghanistan  AFG  1990  21.333432      9.372839      43.620659  \\\n",
       "1     Afghanistan  AFG  1991  18.701225      9.456989      40.530804   \n",
       "2     Afghanistan  AFG  1992  16.801217      9.737245      37.166581   \n",
       "3     Afghanistan  AFG  1993  16.527773      9.832934      35.723897   \n",
       "4     Afghanistan  AFG  1994  16.527686      9.564733      35.458716   \n",
       "...           ...  ...   ...        ...           ...            ...   \n",
       "6835     Zimbabwe  ZWE  2015   2.642187      2.495452      34.026731   \n",
       "6836     Zimbabwe  ZWE  2016   2.753739      2.683036      34.769286   \n",
       "6837     Zimbabwe  ZWE  2017   2.752663      2.768516      35.273065   \n",
       "6838     Zimbabwe  ZWE  2018   2.718565      2.797381      35.747494   \n",
       "6839     Zimbabwe  ZWE  2019   2.711397      2.749125      36.221210   \n",
       "\n",
       "      50 < DNS < 69     DNS > 70  DNS all ages  DNS Padronizado  \n",
       "0        407.233106  1021.494249    101.409895       159.964864  \n",
       "1        404.506587  1013.760277     93.714269       158.455892  \n",
       "2        402.687908  1007.834265     84.011048       157.390960  \n",
       "3        404.419442  1006.565188     79.038807       157.574448  \n",
       "4        407.332265  1006.363704     77.173172       158.031726  \n",
       "...             ...          ...           ...              ...  \n",
       "6835     465.147739  1340.306429     79.281072       182.596478  \n",
       "6836     464.267622  1336.598159     80.128518       182.424420  \n",
       "6837     461.892531  1333.762807     80.769870       181.835774  \n",
       "6838     458.788271  1330.364400     81.484036       181.356873  \n",
       "6839     455.847569  1327.744695     82.291345       180.933963  \n",
       "\n",
       "[6300 rows x 10 columns]"
      ]
     },
     "execution_count": 49,
     "metadata": {},
     "output_type": "execute_result"
    }
   ],
   "source": [
    "nova_ordem = ['Country', 'Code', 'Year', 'DNS < 5', '5 < DNS < 14', '15 < DNS < 49','50 < DNS < 69', 'DNS > 70', 'DNS all ages',  'DNS Padronizado']\n",
    "\n",
    "# Selecionar as colunas na ordem desejada\n",
    "df = df[nova_ordem]\n",
    "df"
   ]
  },
  {
   "cell_type": "markdown",
   "metadata": {
    "id": "NtZLTX8Qi3Df"
   },
   "source": [
    "*Alinhamento das colunas*\n",
    "\n"
   ]
  },
  {
   "cell_type": "code",
   "execution_count": 50,
   "metadata": {
    "id": "FL0PbQMGtw69"
   },
   "outputs": [
    {
     "data": {
      "text/html": [
       "<style type=\"text/css\">\n",
       "#T_8adeb th {\n",
       "  text-align: center;\n",
       "}\n",
       "#T_8adeb td {\n",
       "  text-align: center;\n",
       "}\n",
       "</style>\n",
       "<table id=\"T_8adeb\">\n",
       "  <thead>\n",
       "    <tr>\n",
       "      <th class=\"blank level0\" >&nbsp;</th>\n",
       "      <th id=\"T_8adeb_level0_col0\" class=\"col_heading level0 col0\" >Country</th>\n",
       "      <th id=\"T_8adeb_level0_col1\" class=\"col_heading level0 col1\" >Code</th>\n",
       "      <th id=\"T_8adeb_level0_col2\" class=\"col_heading level0 col2\" >Year</th>\n",
       "      <th id=\"T_8adeb_level0_col3\" class=\"col_heading level0 col3\" >DNS < 5</th>\n",
       "      <th id=\"T_8adeb_level0_col4\" class=\"col_heading level0 col4\" >5 < DNS < 14</th>\n",
       "      <th id=\"T_8adeb_level0_col5\" class=\"col_heading level0 col5\" >15 < DNS < 49</th>\n",
       "      <th id=\"T_8adeb_level0_col6\" class=\"col_heading level0 col6\" >50 < DNS < 69</th>\n",
       "      <th id=\"T_8adeb_level0_col7\" class=\"col_heading level0 col7\" >DNS > 70</th>\n",
       "      <th id=\"T_8adeb_level0_col8\" class=\"col_heading level0 col8\" >DNS all ages</th>\n",
       "      <th id=\"T_8adeb_level0_col9\" class=\"col_heading level0 col9\" >DNS Padronizado</th>\n",
       "    </tr>\n",
       "  </thead>\n",
       "  <tbody>\n",
       "    <tr>\n",
       "      <th id=\"T_8adeb_level0_row0\" class=\"row_heading level0 row0\" >0</th>\n",
       "      <td id=\"T_8adeb_row0_col0\" class=\"data row0 col0\" >Afghanistan</td>\n",
       "      <td id=\"T_8adeb_row0_col1\" class=\"data row0 col1\" >AFG</td>\n",
       "      <td id=\"T_8adeb_row0_col2\" class=\"data row0 col2\" >1990</td>\n",
       "      <td id=\"T_8adeb_row0_col3\" class=\"data row0 col3\" >21.333432</td>\n",
       "      <td id=\"T_8adeb_row0_col4\" class=\"data row0 col4\" >9.372839</td>\n",
       "      <td id=\"T_8adeb_row0_col5\" class=\"data row0 col5\" >43.620659</td>\n",
       "      <td id=\"T_8adeb_row0_col6\" class=\"data row0 col6\" >407.233106</td>\n",
       "      <td id=\"T_8adeb_row0_col7\" class=\"data row0 col7\" >1021.494249</td>\n",
       "      <td id=\"T_8adeb_row0_col8\" class=\"data row0 col8\" >101.409895</td>\n",
       "      <td id=\"T_8adeb_row0_col9\" class=\"data row0 col9\" >159.964864</td>\n",
       "    </tr>\n",
       "    <tr>\n",
       "      <th id=\"T_8adeb_level0_row1\" class=\"row_heading level0 row1\" >1</th>\n",
       "      <td id=\"T_8adeb_row1_col0\" class=\"data row1 col0\" >Afghanistan</td>\n",
       "      <td id=\"T_8adeb_row1_col1\" class=\"data row1 col1\" >AFG</td>\n",
       "      <td id=\"T_8adeb_row1_col2\" class=\"data row1 col2\" >1991</td>\n",
       "      <td id=\"T_8adeb_row1_col3\" class=\"data row1 col3\" >18.701225</td>\n",
       "      <td id=\"T_8adeb_row1_col4\" class=\"data row1 col4\" >9.456989</td>\n",
       "      <td id=\"T_8adeb_row1_col5\" class=\"data row1 col5\" >40.530804</td>\n",
       "      <td id=\"T_8adeb_row1_col6\" class=\"data row1 col6\" >404.506587</td>\n",
       "      <td id=\"T_8adeb_row1_col7\" class=\"data row1 col7\" >1013.760277</td>\n",
       "      <td id=\"T_8adeb_row1_col8\" class=\"data row1 col8\" >93.714269</td>\n",
       "      <td id=\"T_8adeb_row1_col9\" class=\"data row1 col9\" >158.455892</td>\n",
       "    </tr>\n",
       "    <tr>\n",
       "      <th id=\"T_8adeb_level0_row2\" class=\"row_heading level0 row2\" >2</th>\n",
       "      <td id=\"T_8adeb_row2_col0\" class=\"data row2 col0\" >Afghanistan</td>\n",
       "      <td id=\"T_8adeb_row2_col1\" class=\"data row2 col1\" >AFG</td>\n",
       "      <td id=\"T_8adeb_row2_col2\" class=\"data row2 col2\" >1992</td>\n",
       "      <td id=\"T_8adeb_row2_col3\" class=\"data row2 col3\" >16.801217</td>\n",
       "      <td id=\"T_8adeb_row2_col4\" class=\"data row2 col4\" >9.737245</td>\n",
       "      <td id=\"T_8adeb_row2_col5\" class=\"data row2 col5\" >37.166581</td>\n",
       "      <td id=\"T_8adeb_row2_col6\" class=\"data row2 col6\" >402.687908</td>\n",
       "      <td id=\"T_8adeb_row2_col7\" class=\"data row2 col7\" >1007.834265</td>\n",
       "      <td id=\"T_8adeb_row2_col8\" class=\"data row2 col8\" >84.011048</td>\n",
       "      <td id=\"T_8adeb_row2_col9\" class=\"data row2 col9\" >157.390960</td>\n",
       "    </tr>\n",
       "    <tr>\n",
       "      <th id=\"T_8adeb_level0_row3\" class=\"row_heading level0 row3\" >3</th>\n",
       "      <td id=\"T_8adeb_row3_col0\" class=\"data row3 col0\" >Afghanistan</td>\n",
       "      <td id=\"T_8adeb_row3_col1\" class=\"data row3 col1\" >AFG</td>\n",
       "      <td id=\"T_8adeb_row3_col2\" class=\"data row3 col2\" >1993</td>\n",
       "      <td id=\"T_8adeb_row3_col3\" class=\"data row3 col3\" >16.527773</td>\n",
       "      <td id=\"T_8adeb_row3_col4\" class=\"data row3 col4\" >9.832934</td>\n",
       "      <td id=\"T_8adeb_row3_col5\" class=\"data row3 col5\" >35.723897</td>\n",
       "      <td id=\"T_8adeb_row3_col6\" class=\"data row3 col6\" >404.419442</td>\n",
       "      <td id=\"T_8adeb_row3_col7\" class=\"data row3 col7\" >1006.565188</td>\n",
       "      <td id=\"T_8adeb_row3_col8\" class=\"data row3 col8\" >79.038807</td>\n",
       "      <td id=\"T_8adeb_row3_col9\" class=\"data row3 col9\" >157.574448</td>\n",
       "    </tr>\n",
       "    <tr>\n",
       "      <th id=\"T_8adeb_level0_row4\" class=\"row_heading level0 row4\" >4</th>\n",
       "      <td id=\"T_8adeb_row4_col0\" class=\"data row4 col0\" >Afghanistan</td>\n",
       "      <td id=\"T_8adeb_row4_col1\" class=\"data row4 col1\" >AFG</td>\n",
       "      <td id=\"T_8adeb_row4_col2\" class=\"data row4 col2\" >1994</td>\n",
       "      <td id=\"T_8adeb_row4_col3\" class=\"data row4 col3\" >16.527686</td>\n",
       "      <td id=\"T_8adeb_row4_col4\" class=\"data row4 col4\" >9.564733</td>\n",
       "      <td id=\"T_8adeb_row4_col5\" class=\"data row4 col5\" >35.458716</td>\n",
       "      <td id=\"T_8adeb_row4_col6\" class=\"data row4 col6\" >407.332265</td>\n",
       "      <td id=\"T_8adeb_row4_col7\" class=\"data row4 col7\" >1006.363704</td>\n",
       "      <td id=\"T_8adeb_row4_col8\" class=\"data row4 col8\" >77.173172</td>\n",
       "      <td id=\"T_8adeb_row4_col9\" class=\"data row4 col9\" >158.031726</td>\n",
       "    </tr>\n",
       "  </tbody>\n",
       "</table>\n"
      ],
      "text/plain": [
       "<pandas.io.formats.style.Styler at 0x230c4ac03d0>"
      ]
     },
     "execution_count": 50,
     "metadata": {},
     "output_type": "execute_result"
    }
   ],
   "source": [
    "df.head().style.set_table_styles([dict(selector='th', props=[('text-align', 'center')]),\n",
    "                                    dict(selector='td', props=[('text-align', 'center')])])"
   ]
  },
  {
   "cell_type": "code",
   "execution_count": null,
   "metadata": {
    "id": "B1NfpCi7uRzN"
   },
   "outputs": [],
   "source": [
    "#Verificando a existência de valores NaN  e se isso vai interferir\n",
    "df.info()"
   ]
  },
  {
   "cell_type": "markdown",
   "metadata": {
    "id": "J6Q2H7rqhyeS"
   },
   "source": [
    "Não há valores NaN nas colunas DNS. Há apenas na coluna Code"
   ]
  },
  {
   "cell_type": "markdown",
   "metadata": {
    "id": "ca9sjRB8iCTN"
   },
   "source": [
    "Lembrar:\n",
    "\n",
    "\n",
    "*   Verificar o que não é país dentro da coluna Entity (já foi feito)\n",
    "*   Alterar a ordem das colunas. Começar com < 5, e assim por diante\n",
    "\n"
   ]
  },
  {
   "cell_type": "markdown",
   "metadata": {
    "id": "AY8yBHn6jZCW"
   },
   "source": [
    "## 2.3 Medidas de Centralidade"
   ]
  },
  {
   "cell_type": "markdown",
   "metadata": {},
   "source": [
    "### Medianas"
   ]
  },
  {
   "cell_type": "code",
   "execution_count": null,
   "metadata": {
    "id": "PbN6s_4dun6a"
   },
   "outputs": [],
   "source": [
    "#medianas das taxas de mortalidade de acordo com o país e o grupo etário\n",
    "\n",
    "colunas = df.columns[3:]\n",
    "\n",
    "medians = {}\n",
    "\n",
    "for coluna in colunas:\n",
    "    medians[coluna] = df.groupby('Country')[coluna].median().sort_values()\n",
    "\n",
    "    # Exibir as medianas calculadas para cada coluna\n",
    "for coluna, medianas in medians.items():\n",
    "    print(f\"Mediana da coluna '{coluna}':\")\n",
    "    print(medianas)\n",
    "    print()"
   ]
  },
  {
   "cell_type": "code",
   "execution_count": 53,
   "metadata": {
    "id": "H027Dya-mlKn"
   },
   "outputs": [
    {
     "name": "stdout",
     "output_type": "stream",
     "text": [
      "Mediana da coluna 'DNS < 5':\n",
      "Country\n",
      "Malawi                   16.733185\n",
      "Ethiopia                  9.852456\n",
      "Zambia                    6.079012\n",
      "China                     5.782183\n",
      "Sao Tome and Principe     4.985008\n",
      "                           ...    \n",
      "Guam                      0.371905\n",
      "Brunei                    0.367504\n",
      "Oman                      0.354885\n",
      "American Samoa            0.217923\n",
      "Mauritius                 0.148004\n",
      "Name: DNS < 5, Length: 210, dtype: float64\n",
      "\n",
      "Mediana da coluna '5 < DNS < 14':\n",
      "Country\n",
      "Ukraine                         1.856568\n",
      "Azerbaijan                      1.685598\n",
      "Moldova                         1.684424\n",
      "China                           1.649811\n",
      "Honduras                        1.633675\n",
      "                                  ...   \n",
      "Papua New Guinea                0.127910\n",
      "Mali                            0.127441\n",
      "Democratic Republic of Congo    0.110592\n",
      "Togo                            0.071524\n",
      "American Samoa                  0.044858\n",
      "Name: 5 < DNS < 14, Length: 210, dtype: float64\n",
      "\n",
      "Mediana da coluna '15 < DNS < 49':\n",
      "Country\n",
      "Hungary            13.745124\n",
      "Solomon Islands     9.825039\n",
      "Estonia             8.527222\n",
      "Ukraine             8.523983\n",
      "Czechia             8.211629\n",
      "                     ...    \n",
      "Egypt               0.430413\n",
      "Cote d'Ivoire       0.427092\n",
      "Cameroon            0.388944\n",
      "Guinea              0.356559\n",
      "Benin               0.287186\n",
      "Name: 15 < DNS < 49, Length: 210, dtype: float64\n",
      "\n",
      "Mediana da coluna '50 < DNS < 69':\n",
      "Country\n",
      "Mongolia      91.540929\n",
      "Kazakhstan    90.101560\n",
      "Greenland     82.506338\n",
      "Lesotho       79.260814\n",
      "Ukraine       77.160693\n",
      "                ...    \n",
      "Somalia        4.264083\n",
      "Djibouti       4.219121\n",
      "Togo           3.202758\n",
      "Yemen          3.082774\n",
      "Sudan          2.348028\n",
      "Name: 50 < DNS < 69, Length: 210, dtype: float64\n",
      "\n",
      "Mediana da coluna 'DNS > 70':\n",
      "Country\n",
      "Monaco                  254.796578\n",
      "Cape Verde              209.814599\n",
      "Bahrain                 179.369832\n",
      "United Arab Emirates    173.510981\n",
      "Bulgaria                173.227127\n",
      "                           ...    \n",
      "Algeria                  14.186853\n",
      "Mauritius                13.891723\n",
      "Comoros                  12.548318\n",
      "Japan                    11.044074\n",
      "South Sudan               9.472375\n",
      "Name: DNS > 70, Length: 210, dtype: float64\n",
      "\n",
      "Mediana da coluna 'DNS all ages':\n",
      "Country\n",
      "United States Virgin Islands    68.673147\n",
      "Bulgaria                        60.808877\n",
      "Monaco                          57.889738\n",
      "Bosnia and Herzegovina          46.535307\n",
      "Japan                           46.171205\n",
      "                                  ...    \n",
      "Maldives                         1.147853\n",
      "Nigeria                          1.101402\n",
      "Sudan                            1.100909\n",
      "Niger                            0.780801\n",
      "Benin                            0.760178\n",
      "Name: DNS all ages, Length: 210, dtype: float64\n",
      "\n",
      "Mediana da coluna 'DNS Padronizado':\n",
      "Country\n",
      "Lesotho      28.512498\n",
      "Greenland    25.738887\n",
      "Eswatini     24.267041\n",
      "Bulgaria     21.611239\n",
      "Singapore    21.507873\n",
      "               ...    \n",
      "Mauritius     1.807568\n",
      "Mali          1.672818\n",
      "Tunisia       1.630568\n",
      "Niue          1.449754\n",
      "Tokelau       1.325354\n",
      "Name: DNS Padronizado, Length: 210, dtype: float64\n",
      "\n"
     ]
    }
   ],
   "source": [
    "#desvio padrão\n",
    "\n",
    "std = {}\n",
    "for coluna in colunas:\n",
    "    std[coluna] = df.groupby('Country')[coluna].std().sort_values(ascending=False)\n",
    "\n",
    "    # Exibir as medianas calculadas para cada coluna\n",
    "for coluna, stds in std.items():\n",
    "    print(f\"Mediana da coluna '{coluna}':\")\n",
    "    print(stds)\n",
    "    print()"
   ]
  },
  {
   "cell_type": "markdown",
   "metadata": {},
   "source": [
    "### Desvio Padrão"
   ]
  },
  {
   "cell_type": "code",
   "execution_count": 69,
   "metadata": {
    "colab": {
     "base_uri": "https://localhost:8080/"
    },
    "executionInfo": {
     "elapsed": 323,
     "status": "ok",
     "timestamp": 1684646325238,
     "user": {
      "displayName": "ADRIEL TRAJANO",
      "userId": "16910720639247280033"
     },
     "user_tz": 180
    },
    "id": "AM7Kj3K_nfDA",
    "outputId": "ec08b6a4-6869-4deb-a86b-17cfba9580c8"
   },
   "outputs": [
    {
     "name": "stdout",
     "output_type": "stream",
     "text": [
      "Country\n",
      "Malawi                   16.733185\n",
      "Ethiopia                  9.852456\n",
      "Zambia                    6.079012\n",
      "China                     5.782183\n",
      "Sao Tome and Principe     4.985008\n",
      "Name: DNS < 5, dtype: float64\n",
      "\n",
      "Country\n",
      "Ukraine       1.856568\n",
      "Azerbaijan    1.685598\n",
      "Moldova       1.684424\n",
      "China         1.649811\n",
      "Honduras      1.633675\n",
      "Name: 5 < DNS < 14, dtype: float64\n",
      "\n",
      "Country\n",
      "Hungary            13.745124\n",
      "Solomon Islands     9.825039\n",
      "Estonia             8.527222\n",
      "Ukraine             8.523983\n",
      "Czechia             8.211629\n",
      "Name: 15 < DNS < 49, dtype: float64\n",
      "\n",
      "Country\n",
      "Mongolia      91.540929\n",
      "Kazakhstan    90.101560\n",
      "Greenland     82.506338\n",
      "Lesotho       79.260814\n",
      "Ukraine       77.160693\n",
      "Name: 50 < DNS < 69, dtype: float64\n",
      "\n",
      "Country\n",
      "Monaco                  254.796578\n",
      "Cape Verde              209.814599\n",
      "Bahrain                 179.369832\n",
      "United Arab Emirates    173.510981\n",
      "Bulgaria                173.227127\n",
      "Name: DNS > 70, dtype: float64\n",
      "\n",
      "Country\n",
      "United States Virgin Islands    68.673147\n",
      "Bulgaria                        60.808877\n",
      "Monaco                          57.889738\n",
      "Bosnia and Herzegovina          46.535307\n",
      "Japan                           46.171205\n",
      "Name: DNS all ages, dtype: float64\n",
      "\n",
      "Country\n",
      "Lesotho      28.512498\n",
      "Greenland    25.738887\n",
      "Eswatini     24.267041\n",
      "Bulgaria     21.611239\n",
      "Singapore    21.507873\n",
      "Name: DNS Padronizado, dtype: float64\n",
      "\n"
     ]
    }
   ],
   "source": [
    "# 10 Países com maiores taxas de mortalidade\n",
    "for coluna, stds in std.items():  \n",
    "  print(stds.head(5))\n",
    "  print()"
   ]
  },
  {
   "cell_type": "markdown",
   "metadata": {
    "id": "C2IODFlahiML"
   },
   "source": [
    "# 3. Exploração através de gráficos"
   ]
  },
  {
   "cell_type": "markdown",
   "metadata": {},
   "source": [
    "## Gráficos de barra"
   ]
  },
  {
   "cell_type": "code",
   "execution_count": 128,
   "metadata": {},
   "outputs": [],
   "source": [
    "top5_menor5 = std['DNS < 5'].head(5)"
   ]
  },
  {
   "cell_type": "code",
   "execution_count": 124,
   "metadata": {},
   "outputs": [
    {
     "data": {
      "image/png": "[encoded data removed]",
      "text/plain": [
       "<Figure size 640x480 with 1 Axes>"
      ]
     },
     "metadata": {},
     "output_type": "display_data"
    }
   ],
   "source": [
    "df_top5_menor5 = df.loc[(df['Country'].isin(top5_menor5.index))]\n",
    "sns.boxplot(data=df_top5_menor5, x='Country', y='DNS < 5').set(title=\"Relação das Mortes para crianças menores que 5 anos\")\n",
    "plt.xticks(rotation=30, fontsize=9)\n",
    "\n",
    "plt.show()"
   ]
  },
  {
   "cell_type": "code",
   "execution_count": 130,
   "metadata": {},
   "outputs": [
    {
     "data": {
      "text/plain": [
       "Country\n",
       "Ukraine       1.856568\n",
       "Azerbaijan    1.685598\n",
       "Moldova       1.684424\n",
       "China         1.649811\n",
       "Honduras      1.633675\n",
       "Name: 5 < DNS < 14, dtype: float64"
      ]
     },
     "execution_count": 130,
     "metadata": {},
     "output_type": "execute_result"
    }
   ],
   "source": [
    "top5_5_14 = std['5 < DNS < 14'].head(5)\n",
    "top5_5_14"
   ]
  },
  {
   "cell_type": "code",
   "execution_count": null,
   "metadata": {},
   "outputs": [],
   "source": [
    "df_top5_menor5 = df.loc[(df['Country'].isin(top5_menor5.index))]\n",
    "sns.boxplot(data=df_top5_menor5, x='Country', y='DNS < 5').set(title=\"Relação das Mortes para crianças menores que 5 anos\")\n",
    "plt.xticks(rotation=30, fontsize=9)"
   ]
  },
  {
   "cell_type": "code",
   "execution_count": null,
   "metadata": {},
   "outputs": [],
   "source": [
    "top5_15_49 = std['15 < DNS < 49'].head(5)"
   ]
  },
  {
   "cell_type": "code",
   "execution_count": null,
   "metadata": {},
   "outputs": [],
   "source": [
    "top5_50_69 = std['50 < DNS < 69'].head(5)\n"
   ]
  },
  {
   "cell_type": "code",
   "execution_count": null,
   "metadata": {},
   "outputs": [],
   "source": [
    "top5_70mais = std['DNS > 70'].head(5)"
   ]
  },
  {
   "cell_type": "markdown",
   "metadata": {
    "id": "bF4zD-PArLvW"
   },
   "source": [
    "### Monaco"
   ]
  },
  {
   "cell_type": "markdown",
   "metadata": {
    "id": "HvgfiCnDovu7"
   },
   "source": [
    "#### Taxa de mortalidade ao longo dos anos em Monaco"
   ]
  },
  {
   "cell_type": "code",
   "execution_count": 86,
   "metadata": {
    "colab": {
     "base_uri": "https://localhost:8080/",
     "height": 485
    },
    "executionInfo": {
     "elapsed": 445,
     "status": "ok",
     "timestamp": 1684645002642,
     "user": {
      "displayName": "ADRIEL TRAJANO",
      "userId": "16910720639247280033"
     },
     "user_tz": 180
    },
    "id": "qeVw_L_Io1zJ",
    "outputId": "7d0b8fba-2478-4a52-b697-7bacf0fcad56"
   },
   "outputs": [
    {
     "data": {
      "image/png": "[encoded data removed]",
      "text/plain": [
       "<Figure size 640x480 with 1 Axes>"
      ]
     },
     "metadata": {},
     "output_type": "display_data"
    }
   ],
   "source": [
    "df_monaco = df.loc[(df['Country']=='Malawi')]\n",
    "sns.barplot(data=df_monaco, x='Year', y='DNS < 5').set(title=\"Relação das Mortes para maiores de 70 anos\")\n",
    "plt.xlabel('Ano')\n",
    "plt.ylabel('Contagem de Mortes')\n",
    "\n",
    "# Rotacionar os rótulos dos anos e diminuir a fonte\n",
    "plt.xticks(rotation=45, fontsize=8)\n",
    "\n",
    "plt.show()\n"
   ]
  },
  {
   "cell_type": "code",
   "execution_count": 34,
   "metadata": {
    "colab": {
     "base_uri": "https://localhost:8080/",
     "height": 485
    },
    "executionInfo": {
     "elapsed": 786,
     "status": "ok",
     "timestamp": 1684645114236,
     "user": {
      "displayName": "ADRIEL TRAJANO",
      "userId": "16910720639247280033"
     },
     "user_tz": 180
    },
    "id": "Qgy3MqHLq-LJ",
    "outputId": "95813925-df9d-4a8c-f7ed-a06fa0f175a7"
   },
   "outputs": [
    {
     "data": {
      "image/png": "[encoded data removed]",
      "text/plain": [
       "<Figure size 640x480 with 1 Axes>"
      ]
     },
     "metadata": {},
     "output_type": "display_data"
    }
   ],
   "source": [
    "df_monaco = df.loc[(df['Entity']=='Monaco')]\n",
    "sns.barplot(data=df_monaco, x='Year', y='| DNS < 5 |').set(title=\"Relação das Mortes para menores de 5 anos\")\n",
    "plt.xlabel('Ano')\n",
    "plt.ylabel('Contagem de Mortes')\n",
    "\n",
    "# Rotacionar os rótulos dos anos e diminuir a fonte\n",
    "plt.xticks(rotation=45, fontsize=8)\n",
    "\n",
    "plt.show()"
   ]
  },
  {
   "cell_type": "markdown",
   "metadata": {
    "id": "WiBrvR-6rOqV"
   },
   "source": []
  },
  {
   "cell_type": "markdown",
   "metadata": {
    "id": "1ZEIQliRrT9W"
   },
   "source": [
    "### South Sudan"
   ]
  },
  {
   "cell_type": "markdown",
   "metadata": {},
   "source": [
    "#### Taxa de mortalidade ao longo dos anos em South Sudan"
   ]
  },
  {
   "cell_type": "code",
   "execution_count": 43,
   "metadata": {
    "id": "Lho_9BnPrjb2"
   },
   "outputs": [
    {
     "data": {
      "image/png": "[encoded data removed]",
      "text/plain": [
       "<Figure size 640x480 with 1 Axes>"
      ]
     },
     "metadata": {},
     "output_type": "display_data"
    }
   ],
   "source": [
    "df_South_Sudan = df.loc[(df['Entity']=='South Sudan')]\n",
    "sns.barplot(data=df_South_Sudan, x='Year', y='DNS > 70').set(title=\"Relação das Mortes para maiores de 70 anos\")\n",
    "plt.ylabel('Contagem de Mortes')\n",
    "plt.xlabel('Ano')\n",
    "\n",
    "# Rotacionar os rótulos dos anos e diminuir a fonte\n",
    "plt.xticks(rotation=45, fontsize=8)\n",
    "\n",
    "plt.show()"
   ]
  },
  {
   "cell_type": "markdown",
   "metadata": {
    "id": "xm1H-DyisAvk"
   },
   "source": [
    "### Russia "
   ]
  },
  {
   "cell_type": "markdown",
   "metadata": {},
   "source": [
    "#### Taxa de mortalidade ao longo nos anos em Russia"
   ]
  },
  {
   "cell_type": "code",
   "execution_count": 36,
   "metadata": {
    "colab": {
     "base_uri": "https://localhost:8080/",
     "height": 485
    },
    "executionInfo": {
     "elapsed": 944,
     "status": "ok",
     "timestamp": 1684645436720,
     "user": {
      "displayName": "ADRIEL TRAJANO",
      "userId": "16910720639247280033"
     },
     "user_tz": 180
    },
    "id": "GVKnfDXbsNgP",
    "outputId": "c7f73f19-1b9a-4a34-d9cf-3a791f858d42"
   },
   "outputs": [
    {
     "data": {
      "image/png": "[encoded data removed]",
      "text/plain": [
       "<Figure size 640x480 with 1 Axes>"
      ]
     },
     "metadata": {},
     "output_type": "display_data"
    }
   ],
   "source": [
    "df_Russia = df.loc[(df['Entity']=='Russia')]\n",
    "sns.barplot(data=df_Russia, x='Year', y='DNS > 70').set(title=\"Relação das Mortes para maiores de 70 anos\")\n",
    "plt.xlabel('Ano')\n",
    "plt.ylabel('Contagem de Mortes')\n",
    "\n",
    "# Rotacionar os rótulos dos anos e diminuir a fonte\n",
    "plt.xticks(rotation=45, fontsize=8)\n",
    "\n",
    "plt.show()"
   ]
  },
  {
   "cell_type": "markdown",
   "metadata": {},
   "source": [
    "## Boxplots"
   ]
  },
  {
   "cell_type": "markdown",
   "metadata": {},
   "source": [
    "### Russia"
   ]
  },
  {
   "cell_type": "code",
   "execution_count": 37,
   "metadata": {
    "colab": {
     "base_uri": "https://localhost:8080/",
     "height": 489
    },
    "executionInfo": {
     "elapsed": 861,
     "status": "ok",
     "timestamp": 1684645532607,
     "user": {
      "displayName": "ADRIEL TRAJANO",
      "userId": "16910720639247280033"
     },
     "user_tz": 180
    },
    "id": "B6YUvmoqskYG",
    "outputId": "ca64418e-c37e-4d7f-a849-331b6e4a0114"
   },
   "outputs": [
    {
     "data": {
      "text/plain": [
       "[Text(0.5, 1.0, 'Relação das Mortes para maiores de 70 anos')]"
      ]
     },
     "execution_count": 37,
     "metadata": {},
     "output_type": "execute_result"
    },
    {
     "data": {
      "image/png": "[encoded data removed]",
      "text/plain": [
       "<Figure size 640x480 with 1 Axes>"
      ]
     },
     "metadata": {},
     "output_type": "display_data"
    }
   ],
   "source": [
    "sns.boxplot(data=df_Russia, x='Entity', y='DNS > 70').set(title=\"Relação das Mortes para maiores de 70 anos\")"
   ]
  },
  {
   "cell_type": "markdown",
   "metadata": {
    "id": "b8HD-QhXrRMJ"
   },
   "source": [
    "### BRICS"
   ]
  },
  {
   "cell_type": "code",
   "execution_count": 37,
   "metadata": {
    "colab": {
     "base_uri": "https://localhost:8080/",
     "height": 486
    },
    "executionInfo": {
     "elapsed": 609,
     "status": "ok",
     "timestamp": 1684646198309,
     "user": {
      "displayName": "ADRIEL TRAJANO",
      "userId": "16910720639247280033"
     },
     "user_tz": 180
    },
    "id": "a3RjFdVgtkNY",
    "outputId": "7d6f2409-fc70-4530-90a2-3d9b600a2fd7"
   },
   "outputs": [
    {
     "data": {
      "text/plain": [
       "Text(0.5, 1.0, 'Taxa de mortalidade (pessoas com mais de 70 anos) dos países do BRICS')"
      ]
     },
     "execution_count": 37,
     "metadata": {},
     "output_type": "execute_result"
    },
    {
     "data": {
      "image/png": "[encoded data removed]",
      "text/plain": [
       "<Figure size 640x480 with 1 Axes>"
      ]
     },
     "metadata": {},
     "output_type": "display_data"
    }
   ],
   "source": [
    "df_filtered_brics = df.loc[((df['Entity'] == 'Brazil') | (df['Entity'] == 'Russia' ) | (df['Entity'] == 'India') | (df['Entity'] == 'China') | (df['Entity'] == 'South Africa'))]\n",
    "sns.boxplot(data=df_filtered_brics , x='Entity', y='DNS > 70')\n",
    "plt.title('Taxa de mortalidade (pessoas com mais de 70 anos) dos países do BRICS',fontsize=10)"
   ]
  },
  {
   "cell_type": "code",
   "execution_count": 38,
   "metadata": {
    "colab": {
     "base_uri": "https://localhost:8080/",
     "height": 486
    },
    "executionInfo": {
     "elapsed": 599,
     "status": "ok",
     "timestamp": 1684646212071,
     "user": {
      "displayName": "ADRIEL TRAJANO",
      "userId": "16910720639247280033"
     },
     "user_tz": 180
    },
    "id": "tybZLZT4u2Qz",
    "outputId": "08ccddca-b8f0-48d1-c951-19efd8b4bfe5"
   },
   "outputs": [
    {
     "data": {
      "text/plain": [
       "Text(0.5, 1.0, 'Taxa de mortalidade (pessoas entre 50 e 69 anos) dos países do BRICS')"
      ]
     },
     "execution_count": 38,
     "metadata": {},
     "output_type": "execute_result"
    },
    {
     "data": {
      "image/png": "[encoded data removed]",
      "text/plain": [
       "<Figure size 640x480 with 1 Axes>"
      ]
     },
     "metadata": {},
     "output_type": "display_data"
    }
   ],
   "source": [
    "df_filtered_brics = df.loc[((df['Entity'] == 'Brazil') | (df['Entity'] == 'Russia' ) | (df['Entity'] == 'India') | (df['Entity'] == 'China') | (df['Entity'] == 'South Africa'))]\n",
    "sns.boxplot(data=df_filtered_brics , x='Entity', y='50 < DNS < 69')\n",
    "plt.title('Taxa de mortalidade (pessoas entre 50 e 69 anos) dos países do BRICS',fontsize=10)"
   ]
  },
  {
   "cell_type": "code",
   "execution_count": 39,
   "metadata": {
    "colab": {
     "base_uri": "https://localhost:8080/",
     "height": 486
    },
    "executionInfo": {
     "elapsed": 380,
     "status": "ok",
     "timestamp": 1684646287592,
     "user": {
      "displayName": "ADRIEL TRAJANO",
      "userId": "16910720639247280033"
     },
     "user_tz": 180
    },
    "id": "8kSQt0kPvgJ3",
    "outputId": "17053a93-dbe0-4539-8679-9b980da32e08"
   },
   "outputs": [
    {
     "data": {
      "text/plain": [
       "Text(0.5, 1.0, 'Taxa de mortalidade (pessoas entre 5 e 14 anos) dos países do BRICS')"
      ]
     },
     "execution_count": 39,
     "metadata": {},
     "output_type": "execute_result"
    },
    {
     "data": {
      "image/png": "[encoded data removed]",
      "text/plain": [
       "<Figure size 640x480 with 1 Axes>"
      ]
     },
     "metadata": {},
     "output_type": "display_data"
    }
   ],
   "source": [
    "\n",
    "df_filtered_brics = df.loc[((df['Entity'] == 'Brazil') | (df['Entity'] == 'Russia' ) | (df['Entity'] == 'India') | (df['Entity'] == 'China') | (df['Entity'] == 'South Africa'))]\n",
    "sns.boxplot(data=df_filtered_brics , x='Entity', y='| 5 < DNS < 14 |')\n",
    "plt.title('Taxa de mortalidade (pessoas entre 5 e 14 anos) dos países do BRICS',fontsize=10)"
   ]
  },
  {
   "cell_type": "code",
   "execution_count": 40,
   "metadata": {
    "colab": {
     "base_uri": "https://localhost:8080/",
     "height": 486
    },
    "executionInfo": {
     "elapsed": 519,
     "status": "ok",
     "timestamp": 1684646234989,
     "user": {
      "displayName": "ADRIEL TRAJANO",
      "userId": "16910720639247280033"
     },
     "user_tz": 180
    },
    "id": "xuBEsyPtucdG",
    "outputId": "e520a296-7b60-4c13-9c3c-e9f2e4e87f70"
   },
   "outputs": [
    {
     "data": {
      "text/plain": [
       "Text(0.5, 1.0, 'Taxa de mortalidade (crianças menores de 5 anos) dos países do BRICS')"
      ]
     },
     "execution_count": 40,
     "metadata": {},
     "output_type": "execute_result"
    },
    {
     "data": {
      "image/png": "[encoded data removed]",
      "text/plain": [
       "<Figure size 640x480 with 1 Axes>"
      ]
     },
     "metadata": {},
     "output_type": "display_data"
    }
   ],
   "source": [
    "df_filtered_brics = df.loc[((df['Entity'] == 'Brazil') | (df['Entity'] == 'Russia' ) | (df['Entity'] == 'India') | (df['Entity'] == 'China') | (df['Entity'] == 'South Africa'))]\n",
    "sns.boxplot(data=df_filtered_brics , x='Entity', y='| DNS < 5 |')\n",
    "plt.title('Taxa de mortalidade (crianças menores de 5 anos) dos países do BRICS',fontsize=10)"
   ]
  },
  {
   "cell_type": "markdown",
   "metadata": {
    "id": "8NZi_4ozkJWF"
   },
   "source": [
    "# 4. Perguntas"
   ]
  },
  {
   "cell_type": "markdown",
   "metadata": {
    "id": "l-b5M5cuwTIx"
   },
   "source": [
    "Rascunho:\n",
    "\n",
    "\n",
    "* Qual a faixa etária que mais morre nesses países? (responder através de gráfico de barras)\n",
    "* Qual o país mais constante? (responder através de gráficos do k-means)\n",
    "* Qual o país com maior queda de casos nos últimos 5 anos?\n",
    "* Em qual ano mais países tiveram altas em suas taxas?\n",
    "* Qual o país com o maior investimento público em saúde? \n",
    "* E qual o país com o menor investimento?\n",
    "\n",
    "\n",
    "\n",
    "\n"
   ]
  },
  {
   "cell_type": "markdown",
   "metadata": {},
   "source": [
    "## Etapa de Clusterização"
   ]
  },
  {
   "cell_type": "code",
   "execution_count": 41,
   "metadata": {
    "id": "E2T03Z99xmEC"
   },
   "outputs": [],
   "source": [
    "from sklearn.cluster import KMeans"
   ]
  },
  {
   "cell_type": "code",
   "execution_count": 42,
   "metadata": {
    "colab": {
     "base_uri": "https://localhost:8080/",
     "height": 631
    },
    "executionInfo": {
     "elapsed": 587,
     "status": "ok",
     "timestamp": 1684647562696,
     "user": {
      "displayName": "ADRIEL TRAJANO",
      "userId": "16910720639247280033"
     },
     "user_tz": 180
    },
    "id": "c_cxIb5Zxcl6",
    "outputId": "872204b8-240d-430f-f267-3571c7afe2f0"
   },
   "outputs": [
    {
     "name": "stderr",
     "output_type": "stream",
     "text": [
      "c:\\Users\\dorie\\miniconda3\\lib\\site-packages\\sklearn\\cluster\\_kmeans.py:870: FutureWarning: The default value of `n_init` will change from 10 to 'auto' in 1.4. Set the value of `n_init` explicitly to suppress the warning\n",
      "  warnings.warn(\n",
      "C:\\Users\\dorie\\AppData\\Local\\Temp\\ipykernel_138448\\1276686386.py:12: SettingWithCopyWarning: \n",
      "A value is trying to be set on a copy of a slice from a DataFrame.\n",
      "Try using .loc[row_indexer,col_indexer] = value instead\n",
      "\n",
      "See the caveats in the documentation: https://pandas.pydata.org/pandas-docs/stable/user_guide/indexing.html#returning-a-view-versus-a-copy\n",
      "  df_filtered_brics['Cluster'] = kmeans.labels_\n"
     ]
    },
    {
     "data": {
      "image/png": "[encoded data removed]",
      "text/plain": [
       "<Figure size 640x480 with 1 Axes>"
      ]
     },
     "metadata": {},
     "output_type": "display_data"
    }
   ],
   "source": [
    "kbrics = df_filtered_brics[['DNS > 70', '50 < DNS < 69']]\n",
    "\n",
    "# Definir o número de clusters\n",
    "k = 3\n",
    "\n",
    "# Executar o algoritmo K-Means\n",
    "kmeans = KMeans(n_clusters=k)\n",
    "kmeans.fit(kbrics)\n",
    "centroides = kmeans.cluster_centers_\n",
    "\n",
    "# Adicionar as colunas de cluster ao DataFrame original\n",
    "df_filtered_brics['Cluster'] = kmeans.labels_\n",
    "\n",
    "# Visualizar os resultados do cluster\n",
    "sns.scatterplot(data=df_filtered_brics, x='DNS > 70', y='50 < DNS < 69', hue='Cluster', palette='bright')\n",
    "\n",
    "# Plotar os centroides\n",
    "plt.scatter(centroides[:, 0], centroides[:, 1], marker='X', color='black', s=100)\n",
    "\n",
    "# Configurações adicionais do gráfico\n",
    "plt.xlabel('DNS > 70')\n",
    "plt.ylabel('50 < DNS < 69')\n",
    "plt.title('1.1 Gráfico de dispersão com centroides')\n",
    "\n",
    "# Exibir o gráfico\n",
    "plt.show()"
   ]
  },
  {
   "cell_type": "markdown",
   "metadata": {},
   "source": []
  },
  {
   "cell_type": "markdown",
   "metadata": {
    "id": "NfKPpn9_kMtt"
   },
   "source": [
    "# 5. Conclusões"
   ]
  },
  {
   "cell_type": "markdown",
   "metadata": {},
   "source": [
    "## Ideias"
   ]
  },
  {
   "cell_type": "code",
   "execution_count": null,
   "metadata": {},
   "outputs": [],
   "source": [
    "\n",
    "''' Quero plotar mapa\n",
    "# Dados\n",
    "data = {\n",
    "    'Country': ['Brazil', 'Argentina', 'Chile'],\n",
    "    'Value': [10, 20, 30]\n",
    "}\n",
    "\n",
    "# GeoJSON com as geometrias dos países\n",
    "geojson = 'caminho/para/arquivo.geojson'\n",
    "\n",
    "# Plotagem do mapa de cloropleta\n",
    "fig = px.choropleth_mapbox(data_frame=data, geojson=geojson, locations='Country', color='Value',\n",
    "                           mapbox_style='carto-positron', center={'lat': 0, 'lon': 0}, zoom=2)\n",
    "\n",
    "# Exibição do mapa\n",
    "fig.show()\n",
    "'''"
   ]
  }
 ],
 "metadata": {
  "colab": {
   "authorship_tag": "ABX9TyN4yXVBafjL97OTKNVEwy+H",
   "collapsed_sections": [
    "bgK4WnTKjqNv"
   ],
   "mount_file_id": "1kWj2SvxxyjIu38p69IrQ9MzxzOV8KPSJ",
   "provenance": []
  },
  "kernelspec": {
   "display_name": "Python 3 (ipykernel)",
   "language": "python",
   "name": "python3"
  },
  "language_info": {
   "codemirror_mode": {
    "name": "ipython",
    "version": 3
   },
   "file_extension": ".py",
   "mimetype": "text/x-python",
   "name": "python",
   "nbconvert_exporter": "python",
   "pygments_lexer": "ipython3",
   "version": "3.8.5"
  }
 },
 "nbformat": 4,
 "nbformat_minor": 1
}
